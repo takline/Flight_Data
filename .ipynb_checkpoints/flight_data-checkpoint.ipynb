{
 "cells": [
  {
   "cell_type": "code",
   "execution_count": 1,
   "metadata": {
    "collapsed": false
   },
   "outputs": [],
   "source": [
    "import pandas as pd \n",
    "from subprocess import Popen, PIPE, STDOUT\n",
    "import csv\n",
    "from urllib2 import Request, urlopen\n",
    "import json\n",
    "from pandas.io.json import json_normalize\n",
    "import datetime\n",
    "import time"
   ]
  },
  {
   "cell_type": "code",
   "execution_count": 2,
   "metadata": {
    "collapsed": false
   },
   "outputs": [],
   "source": [
    "df=pd.read_csv('/Users/xgl470/Downloads/dcah/DCAH_Competition_Data_VA_Flights.csv',encoding='utf-8', sep =',')"
   ]
  },
  {
   "cell_type": "code",
   "execution_count": 3,
   "metadata": {
    "collapsed": false
   },
   "outputs": [],
   "source": [
    "def f(x):\n",
    "    return  x[2] + x[3] "
   ]
  },
  {
   "cell_type": "code",
   "execution_count": 4,
   "metadata": {
    "collapsed": false
   },
   "outputs": [],
   "source": [
    "df['fligt_id']=df[\"FL_NUM\"].map(str) + df[\"ORIGIN\"]+ df[\"CRS_DEP_TIME\"].map(str)+ df[\"FL_DATE\"]"
   ]
  },
  {
   "cell_type": "code",
   "execution_count": 5,
   "metadata": {
    "collapsed": false
   },
   "outputs": [],
   "source": [
    "flight_dict=df.set_index('fligt_id').to_dict()"
   ]
  },
  {
   "cell_type": "markdown",
   "metadata": {},
   "source": [
    "# setting up dict"
   ]
  },
  {
   "cell_type": "code",
   "execution_count": 100,
   "metadata": {
    "collapsed": true
   },
   "outputs": [],
   "source": [
    "masterdict={}"
   ]
  },
  {
   "cell_type": "code",
   "execution_count": 101,
   "metadata": {
    "collapsed": false
   },
   "outputs": [],
   "source": [
    "for x in flight_dict['ORIGIN']:\n",
    "    y=flight_dict['ORIGIN'][x]\n",
    "    masterdict[y]={}"
   ]
  },
  {
   "cell_type": "markdown",
   "metadata": {},
   "source": [
    "setting up a dict for each origin/destination"
   ]
  },
  {
   "cell_type": "code",
   "execution_count": 102,
   "metadata": {
    "collapsed": false
   },
   "outputs": [],
   "source": [
    "for x in flight_dict['DEST']:\n",
    "    origin=flight_dict['ORIGIN'][x]\n",
    "    dest=flight_dict['DEST'][x]\n",
    "    masterdict[origin][dest]={}"
   ]
  },
  {
   "cell_type": "markdown",
   "metadata": {},
   "source": [
    "#finding the total # of flight records per origin/destination"
   ]
  },
  {
   "cell_type": "code",
   "execution_count": 103,
   "metadata": {
    "collapsed": true
   },
   "outputs": [],
   "source": [
    "for x in flight_dict['DEST']:\n",
    "    origin=flight_dict['ORIGIN'][x]\n",
    "    dest=flight_dict['DEST'][x]\n",
    "    masterdict[origin][dest]['count']=0"
   ]
  },
  {
   "cell_type": "code",
   "execution_count": 104,
   "metadata": {
    "collapsed": false
   },
   "outputs": [],
   "source": [
    "for x in flight_dict['DEST']:\n",
    "    origin=flight_dict['ORIGIN'][x]\n",
    "    dest=flight_dict['DEST'][x]\n",
    "    masterdict[origin][dest]['count']+=1"
   ]
  },
  {
   "cell_type": "markdown",
   "metadata": {},
   "source": [
    "finding the total travel time per origin/destination"
   ]
  },
  {
   "cell_type": "code",
   "execution_count": 105,
   "metadata": {
    "collapsed": true
   },
   "outputs": [],
   "source": [
    "for x in flight_dict['DEST']:\n",
    "    origin=flight_dict['ORIGIN'][x]\n",
    "    dest=flight_dict['DEST'][x]\n",
    "    masterdict[origin][dest]['travel_time']=0"
   ]
  },
  {
   "cell_type": "code",
   "execution_count": 106,
   "metadata": {
    "collapsed": false
   },
   "outputs": [],
   "source": [
    "for x in flight_dict['DEST']:\n",
    "    origin=flight_dict['ORIGIN'][x]\n",
    "    dest=flight_dict['DEST'][x]\n",
    "    if flight_dict['CANCELLED'][x]==1:\n",
    "        travel_time=0\n",
    "    elif flight_dict['DIVERTED'][x]==1:\n",
    "        travel_time=flight_dict['CRS_ELAPSED_TIME'][x]\n",
    "    else:\n",
    "        travel_time=flight_dict['ACTUAL_ELAPSED_TIME'][x]\n",
    "    masterdict[origin][dest]['travel_time']+=travel_time"
   ]
  },
  {
   "cell_type": "markdown",
   "metadata": {},
   "source": [
    "calculating experience factor. If a flight is delayed, negative score. If a flight leaves early, positive score. If it is cancelled, large negative score. Diversions also are pretty bad here"
   ]
  },
  {
   "cell_type": "code",
   "execution_count": 107,
   "metadata": {
    "collapsed": true
   },
   "outputs": [],
   "source": [
    "for x in flight_dict['DEST']:\n",
    "    origin=flight_dict['ORIGIN'][x]\n",
    "    dest=flight_dict['DEST'][x]\n",
    "    masterdict[origin][dest]['experience']=0"
   ]
  },
  {
   "cell_type": "code",
   "execution_count": 108,
   "metadata": {
    "collapsed": true
   },
   "outputs": [],
   "source": [
    "for x in flight_dict['DEST']:\n",
    "    origin=flight_dict['ORIGIN'][x]\n",
    "    dest=flight_dict['DEST'][x]\n",
    "    if flight_dict['CANCELLED'][x]==1:\n",
    "        experience=-flight_dict['CRS_ELAPSED_TIME'][x]\n",
    "    elif flight_dict['DIVERTED'][x]==1:\n",
    "        experience=-flight_dict['DEP_DELAY_NEW'][x]-flight_dict['CRS_ELAPSED_TIME'][x]\n",
    "    else:\n",
    "        experience=-flight_dict['ARR_DELAY'][x]\n",
    "    masterdict[origin][dest]['experience']+=experience"
   ]
  },
  {
   "cell_type": "markdown",
   "metadata": {},
   "source": [
    "# Now let's create an \"experience score\""
   ]
  },
  {
   "cell_type": "code",
   "execution_count": 111,
   "metadata": {
    "collapsed": true
   },
   "outputs": [],
   "source": [
    "for x in flight_dict['DEST']:\n",
    "    origin=flight_dict['ORIGIN'][x]\n",
    "    dest=flight_dict['DEST'][x]\n",
    "    masterdict[origin][dest]['experience_score']=0"
   ]
  },
  {
   "cell_type": "code",
   "execution_count": 112,
   "metadata": {
    "collapsed": false
   },
   "outputs": [],
   "source": [
    "for x in flight_dict['DEST']:\n",
    "    origin=flight_dict['ORIGIN'][x]\n",
    "    dest=flight_dict['DEST'][x]\n",
    "    experience=masterdict[origin][dest]['experience']\n",
    "    total_flight_time=masterdict[origin][dest]['travel_time']\n",
    "    score=experience/total_flight_time\n",
    "    masterdict[origin][dest]['experience_score']=score"
   ]
  },
  {
   "cell_type": "code",
   "execution_count": 130,
   "metadata": {
    "collapsed": false
   },
   "outputs": [],
   "source": [
    "unleveled_df=pd.DataFrame(pd.concat(map(pd.DataFrame, masterdict.values()), keys=masterdict.keys())).stack().reset_index()"
   ]
  },
  {
   "cell_type": "markdown",
   "metadata": {},
   "source": [
    "# format the dataframe"
   ]
  },
  {
   "cell_type": "code",
   "execution_count": 158,
   "metadata": {
    "collapsed": false
   },
   "outputs": [],
   "source": [
    "count=unleveled_df[(unleveled_df[\"level_1\"] =='count')]"
   ]
  },
  {
   "cell_type": "code",
   "execution_count": 159,
   "metadata": {
    "collapsed": true
   },
   "outputs": [],
   "source": [
    "count = count.drop('level_1', 1)"
   ]
  },
  {
   "cell_type": "code",
   "execution_count": 160,
   "metadata": {
    "collapsed": true
   },
   "outputs": [],
   "source": [
    "count.columns=['origin','desitination','count']"
   ]
  },
  {
   "cell_type": "code",
   "execution_count": 161,
   "metadata": {
    "collapsed": true
   },
   "outputs": [],
   "source": [
    "experience=unleveled_df[(unleveled_df[\"level_1\"] =='experience')]"
   ]
  },
  {
   "cell_type": "code",
   "execution_count": 162,
   "metadata": {
    "collapsed": true
   },
   "outputs": [],
   "source": [
    "experience = experience.drop('level_1', 1)"
   ]
  },
  {
   "cell_type": "code",
   "execution_count": 163,
   "metadata": {
    "collapsed": true
   },
   "outputs": [],
   "source": [
    "experience.columns=['origin','desitination','experience']"
   ]
  },
  {
   "cell_type": "code",
   "execution_count": 164,
   "metadata": {
    "collapsed": true
   },
   "outputs": [],
   "source": [
    "experience_score=unleveled_df[(unleveled_df[\"level_1\"] =='experience_score')]"
   ]
  },
  {
   "cell_type": "code",
   "execution_count": 165,
   "metadata": {
    "collapsed": true
   },
   "outputs": [],
   "source": [
    "experience_score = experience_score.drop('level_1', 1)"
   ]
  },
  {
   "cell_type": "code",
   "execution_count": 166,
   "metadata": {
    "collapsed": true
   },
   "outputs": [],
   "source": [
    "experience_score.columns=['origin','desitination','experience_score']"
   ]
  },
  {
   "cell_type": "code",
   "execution_count": 174,
   "metadata": {
    "collapsed": true
   },
   "outputs": [],
   "source": [
    "travel_time =unleveled_df[(unleveled_df[\"level_1\"] =='travel_time')]"
   ]
  },
  {
   "cell_type": "code",
   "execution_count": 176,
   "metadata": {
    "collapsed": false
   },
   "outputs": [],
   "source": [
    "travel_time  = travel_time.drop('level_1', 1)"
   ]
  },
  {
   "cell_type": "code",
   "execution_count": 177,
   "metadata": {
    "collapsed": true
   },
   "outputs": [],
   "source": [
    "travel_time .columns=['origin','desitination','travel_time']"
   ]
  },
  {
   "cell_type": "code",
   "execution_count": 178,
   "metadata": {
    "collapsed": true
   },
   "outputs": [],
   "source": [
    "final=pd.merge(count, experience, on=['origin','desitination'], how='inner')"
   ]
  },
  {
   "cell_type": "code",
   "execution_count": 179,
   "metadata": {
    "collapsed": false
   },
   "outputs": [],
   "source": [
    "final=pd.merge(final, travel_time, on=['origin','desitination'], how='inner')"
   ]
  },
  {
   "cell_type": "code",
   "execution_count": 180,
   "metadata": {
    "collapsed": false
   },
   "outputs": [],
   "source": [
    "final=pd.merge(final, experience_score, on=['origin','desitination'], how='inner')"
   ]
  },
  {
   "cell_type": "code",
   "execution_count": 182,
   "metadata": {
    "collapsed": false,
    "scrolled": true
   },
   "outputs": [],
   "source": [
    "final.to_csv('/Users/xgl470/Downloads/dcah/final_results.csv', sep =',')"
   ]
  },
  {
   "cell_type": "markdown",
   "metadata": {
    "collapsed": true
   },
   "source": [
    "# 2nd Part: creating Json file for moving graph"
   ]
  },
  {
   "cell_type": "code",
   "execution_count": 8,
   "metadata": {
    "collapsed": true
   },
   "outputs": [],
   "source": [
    "airlines=[]"
   ]
  },
  {
   "cell_type": "code",
   "execution_count": 9,
   "metadata": {
    "collapsed": true
   },
   "outputs": [],
   "source": [
    "for x in flight_dict['CARRIER']:\n",
    "    airlines.append(flight_dict['CARRIER'][x])"
   ]
  },
  {
   "cell_type": "code",
   "execution_count": null,
   "metadata": {
    "collapsed": true
   },
   "outputs": [],
   "source": [
    "airlines=set(airlines)"
   ]
  },
  {
   "cell_type": "code",
   "execution_count": 67,
   "metadata": {
    "collapsed": true
   },
   "outputs": [],
   "source": [
    "dates=[]"
   ]
  },
  {
   "cell_type": "code",
   "execution_count": 68,
   "metadata": {
    "collapsed": false
   },
   "outputs": [],
   "source": [
    "for x in flight_dict['FL_DATE']:\n",
    "    date=flight_dict['FL_DATE'][x]\n",
    "    date=date[2:]\n",
    "    date=date.replace('/15','')\n",
    "    date=int(date)\n",
    "    dates.append(date)"
   ]
  },
  {
   "cell_type": "code",
   "execution_count": 69,
   "metadata": {
    "collapsed": true
   },
   "outputs": [],
   "source": [
    "dates=list(set(dates))"
   ]
  },
  {
   "cell_type": "code",
   "execution_count": 73,
   "metadata": {
    "collapsed": false
   },
   "outputs": [],
   "source": [
    "dates=sorted(dates)"
   ]
  },
  {
   "cell_type": "markdown",
   "metadata": {},
   "source": [
    "number of flights"
   ]
  },
  {
   "cell_type": "code",
   "execution_count": 74,
   "metadata": {
    "collapsed": true
   },
   "outputs": [],
   "source": [
    "flight_count={}"
   ]
  },
  {
   "cell_type": "code",
   "execution_count": 75,
   "metadata": {
    "collapsed": false
   },
   "outputs": [],
   "source": [
    "for x in airlines:\n",
    "    flight_count[x]={}"
   ]
  },
  {
   "cell_type": "code",
   "execution_count": 76,
   "metadata": {
    "collapsed": true
   },
   "outputs": [],
   "source": [
    "for x in flight_dict['CARRIER']:\n",
    "    airline=flight_dict['CARRIER'][x]\n",
    "    date=flight_dict['FL_DATE'][x]\n",
    "    date=date[2:]\n",
    "    date=date.replace('/15','')\n",
    "    date=int(date)\n",
    "    flight_count[airline][date]=0"
   ]
  },
  {
   "cell_type": "code",
   "execution_count": 77,
   "metadata": {
    "collapsed": true
   },
   "outputs": [],
   "source": [
    "for x in flight_dict['CARRIER']:\n",
    "    airline=flight_dict['CARRIER'][x]\n",
    "    date=flight_dict['FL_DATE'][x]\n",
    "    date=date[2:]\n",
    "    date=date.replace('/15','')\n",
    "    date=int(date)\n",
    "    flight_count[airline][date]+=1"
   ]
  },
  {
   "cell_type": "code",
   "execution_count": 26,
   "metadata": {
    "collapsed": true
   },
   "outputs": [],
   "source": [
    "number_of_flights={}"
   ]
  },
  {
   "cell_type": "code",
   "execution_count": 80,
   "metadata": {
    "collapsed": true
   },
   "outputs": [],
   "source": [
    "for x in airlines:\n",
    "    number_of_flights[x]=[]"
   ]
  },
  {
   "cell_type": "code",
   "execution_count": 81,
   "metadata": {
    "collapsed": true
   },
   "outputs": [],
   "source": [
    "for x in airlines:\n",
    "    for y in dates:\n",
    "        to_append=[y,flight_count[x][y]]\n",
    "        number_of_flights[x].append(to_append)"
   ]
  },
  {
   "cell_type": "markdown",
   "metadata": {},
   "source": [
    "negatives score"
   ]
  },
  {
   "cell_type": "code",
   "execution_count": 89,
   "metadata": {
    "collapsed": true
   },
   "outputs": [],
   "source": [
    "scoring={}"
   ]
  },
  {
   "cell_type": "code",
   "execution_count": 90,
   "metadata": {
    "collapsed": true
   },
   "outputs": [],
   "source": [
    "for x in airlines:\n",
    "    scoring[x]={}"
   ]
  },
  {
   "cell_type": "code",
   "execution_count": 91,
   "metadata": {
    "collapsed": true
   },
   "outputs": [],
   "source": [
    "for x in flight_dict['CARRIER']:\n",
    "    airline=flight_dict['CARRIER'][x]\n",
    "    date=flight_dict['FL_DATE'][x]\n",
    "    date=flight_dict['FL_DATE'][x]\n",
    "    date=date[2:]\n",
    "    date=date.replace('/15','')\n",
    "    date=int(date)\n",
    "    scoring[airline][date]=0"
   ]
  },
  {
   "cell_type": "code",
   "execution_count": 93,
   "metadata": {
    "collapsed": true
   },
   "outputs": [],
   "source": [
    "for x in flight_dict['CARRIER']:\n",
    "    airline=flight_dict['CARRIER'][x]\n",
    "    date=flight_dict['FL_DATE'][x]\n",
    "    date=date[2:]\n",
    "    date=date.replace('/15','')\n",
    "    date=int(date)\n",
    "    if flight_dict['CANCELLED'][x]==1:\n",
    "        experience=-flight_dict['CRS_ELAPSED_TIME'][x]\n",
    "    elif flight_dict['DIVERTED'][x]==1:\n",
    "        experience=-flight_dict['DEP_DELAY_NEW'][x]-flight_dict['CRS_ELAPSED_TIME'][x]\n",
    "    else:\n",
    "        experience=-flight_dict['ARR_DELAY'][x]\n",
    "    scoring[airline][date]+=experience"
   ]
  },
  {
   "cell_type": "markdown",
   "metadata": {},
   "source": [
    "total time"
   ]
  },
  {
   "cell_type": "code",
   "execution_count": 98,
   "metadata": {
    "collapsed": true
   },
   "outputs": [],
   "source": [
    "total_time={}"
   ]
  },
  {
   "cell_type": "code",
   "execution_count": 99,
   "metadata": {
    "collapsed": true
   },
   "outputs": [],
   "source": [
    "for x in airlines:\n",
    "    total_time[x]={}"
   ]
  },
  {
   "cell_type": "code",
   "execution_count": 100,
   "metadata": {
    "collapsed": false
   },
   "outputs": [],
   "source": [
    "for x in flight_dict['CARRIER']:\n",
    "    airline=flight_dict['CARRIER'][x]\n",
    "    date=flight_dict['FL_DATE'][x]\n",
    "    date=flight_dict['FL_DATE'][x]\n",
    "    date=date[2:]\n",
    "    date=date.replace('/15','')\n",
    "    date=int(date)\n",
    "    total_time[airline][date]=0"
   ]
  },
  {
   "cell_type": "code",
   "execution_count": 101,
   "metadata": {
    "collapsed": true
   },
   "outputs": [],
   "source": [
    "for x in flight_dict['CARRIER']:\n",
    "    airline=flight_dict['CARRIER'][x]\n",
    "    date=flight_dict['FL_DATE'][x]\n",
    "    date=flight_dict['FL_DATE'][x]\n",
    "    date=date[2:]\n",
    "    date=date.replace('/15','')\n",
    "    date=int(date)\n",
    "    if flight_dict['CANCELLED'][x]==1:\n",
    "        travel_time=0\n",
    "    elif flight_dict['DIVERTED'][x]==1:\n",
    "        travel_time=flight_dict['CRS_ELAPSED_TIME'][x]\n",
    "    else:\n",
    "        travel_time=flight_dict['ACTUAL_ELAPSED_TIME'][x]\n",
    "    total_time[airline][date]+=travel_time"
   ]
  },
  {
   "cell_type": "markdown",
   "metadata": {},
   "source": [
    "final experience score"
   ]
  },
  {
   "cell_type": "code",
   "execution_count": 103,
   "metadata": {
    "collapsed": true
   },
   "outputs": [],
   "source": [
    "final_exp={}"
   ]
  },
  {
   "cell_type": "code",
   "execution_count": 104,
   "metadata": {
    "collapsed": true
   },
   "outputs": [],
   "source": [
    "for x in airlines:\n",
    "    final_exp[x]={}"
   ]
  },
  {
   "cell_type": "code",
   "execution_count": 105,
   "metadata": {
    "collapsed": true
   },
   "outputs": [],
   "source": [
    "for x in flight_dict['DEST']:\n",
    "    airline=flight_dict['CARRIER'][x]\n",
    "    date=flight_dict['FL_DATE'][x]\n",
    "    date=flight_dict['FL_DATE'][x]\n",
    "    date=date[2:]\n",
    "    date=date.replace('/15','')\n",
    "    date=int(date)\n",
    "    final_exp[airline][date]=0"
   ]
  },
  {
   "cell_type": "code",
   "execution_count": 106,
   "metadata": {
    "collapsed": true
   },
   "outputs": [],
   "source": [
    "for x in flight_dict['DEST']:\n",
    "    airline=flight_dict['CARRIER'][x]\n",
    "    date=flight_dict['FL_DATE'][x]\n",
    "    date=flight_dict['FL_DATE'][x]\n",
    "    date=date[2:]\n",
    "    date=date.replace('/15','')\n",
    "    date=int(date)\n",
    "    experience=scoring[airline][date]\n",
    "    total_flight_time=total_time[airline][date]\n",
    "    score=experience/total_flight_time\n",
    "    final_exp[airline][date]=score"
   ]
  },
  {
   "cell_type": "code",
   "execution_count": 109,
   "metadata": {
    "collapsed": true
   },
   "outputs": [],
   "source": [
    "negative_score={}"
   ]
  },
  {
   "cell_type": "code",
   "execution_count": 110,
   "metadata": {
    "collapsed": true
   },
   "outputs": [],
   "source": [
    "for x in airlines:\n",
    "    negative_score[x]=[]"
   ]
  },
  {
   "cell_type": "code",
   "execution_count": 111,
   "metadata": {
    "collapsed": true
   },
   "outputs": [],
   "source": [
    "for x in airlines:\n",
    "    for y in dates:\n",
    "        to_append=[y,final_exp[x][y]]\n",
    "        negative_score[x].append(to_append)"
   ]
  },
  {
   "cell_type": "markdown",
   "metadata": {},
   "source": [
    "create the final json file"
   ]
  },
  {
   "cell_type": "code",
   "execution_count": 113,
   "metadata": {
    "collapsed": true
   },
   "outputs": [],
   "source": [
    "final_json=[]"
   ]
  },
  {
   "cell_type": "code",
   "execution_count": 114,
   "metadata": {
    "collapsed": true
   },
   "outputs": [],
   "source": [
    "for x in airlines:\n",
    "    new_dict={}\n",
    "    new_dict['name']=x\n",
    "    new_dict['number_of_flights']=number_of_flights[x]\n",
    "    new_dict['negative_score']=negative_score[x]\n",
    "    final_json.append(new_dict)"
   ]
  },
  {
   "cell_type": "code",
   "execution_count": 120,
   "metadata": {
    "collapsed": false
   },
   "outputs": [],
   "source": [
    "import json\n",
    "with open('/Users/xgl470/Downloads/dcah/movingchart/updates.json', 'w') as outfile:\n",
    "    json.dump(final_json, outfile)"
   ]
  },
  {
   "cell_type": "code",
   "execution_count": null,
   "metadata": {
    "collapsed": true
   },
   "outputs": [],
   "source": []
  },
  {
   "cell_type": "code",
   "execution_count": null,
   "metadata": {
    "collapsed": true
   },
   "outputs": [],
   "source": []
  }
 ],
 "metadata": {
  "kernelspec": {
   "display_name": "Python 2",
   "language": "python",
   "name": "python2"
  },
  "language_info": {
   "codemirror_mode": {
    "name": "ipython",
    "version": 2
   },
   "file_extension": ".py",
   "mimetype": "text/x-python",
   "name": "python",
   "nbconvert_exporter": "python",
   "pygments_lexer": "ipython2",
   "version": "2.7.10"
  }
 },
 "nbformat": 4,
 "nbformat_minor": 0
}
