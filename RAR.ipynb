{
 "metadata": {
  "name": "",
  "signature": "sha256:3c19520eff4b899f921fe8f2863137331651a8e5f0b2c348c883915a7eacb270"
 },
 "nbformat": 3,
 "nbformat_minor": 0,
 "worksheets": [
  {
   "cells": [
    {
     "cell_type": "code",
     "collapsed": false,
     "input": [
      "import pandas as pd \n",
      "import pyodbc\n",
      "import math\n",
      "from scipy.stats import norm\n",
      "from subprocess import Popen, PIPE, STDOUT\n",
      "import time\n",
      "from dateutil.relativedelta import relativedelta"
     ],
     "language": "python",
     "metadata": {},
     "outputs": [],
     "prompt_number": 1
    },
    {
     "cell_type": "heading",
     "level": 4,
     "metadata": {},
     "source": [
      "Loan calculations"
     ]
    },
    {
     "cell_type": "code",
     "collapsed": false,
     "input": [
      "beta_calc1=0.11852\n",
      "beta_calc2=0.05478\n",
      "alpha_calc1=-.6\n",
      "alpha_calc2=.95\n",
      "AVC_calc1=.12\n",
      "AVC_calc2=-50\n",
      "Strat_Ops_equity_percent=.0021\n",
      "ead_defaulted=.08\n",
      "Reg_Capital_calc=0.999\n",
      "Econ_Capital_calc=.9992\n",
      "credit_equity_calc1=.5625\n",
      "credit_equity_calc2=1.06\n",
      "credit_equity_calc3=.4155\n",
      "credit_equity_calc4=1\n",
      "liquid_cost=0.0048\n",
      "LCR_liquid_held=0.0231\n",
      "opportunity_cost=0.12"
     ],
     "language": "python",
     "metadata": {},
     "outputs": [],
     "prompt_number": 2
    },
    {
     "cell_type": "heading",
     "level": 4,
     "metadata": {},
     "source": [
      "Deposit LCR"
     ]
    },
    {
     "cell_type": "code",
     "collapsed": false,
     "input": [
      "personal_deposit=.12\n",
      "Escrow_deposit=.3\n",
      "Secured_repo_deposit=1\n",
      "non_regulated_funds=1\n",
      "financial_deposits_operational=.3\n",
      "financial_deposits_non_operational=1\n",
      "non_financial_deposits_operational=.3\n",
      "non_financial_deposits_non_operational=.48\n",
      "LCR_cost_bps=.0048\n",
      "LCR_hqla_held=.0231\n",
      "NRF_Deposit=1\n",
      "secured=1"
     ],
     "language": "python",
     "metadata": {},
     "outputs": [],
     "prompt_number": 3
    },
    {
     "cell_type": "code",
     "collapsed": false,
     "input": [
      "with open (\"/prod/user/home/xgl470/comm_da_logon.txt\", \"r\") as myfile:\n",
      "    logon=myfile.read()"
     ],
     "language": "python",
     "metadata": {},
     "outputs": [],
     "prompt_number": 4
    },
    {
     "cell_type": "code",
     "collapsed": false,
     "input": [
      "pw=logon[logon.index('comm_da')+8:logon.index(';')]"
     ],
     "language": "python",
     "metadata": {},
     "outputs": [],
     "prompt_number": 5
    },
    {
     "cell_type": "code",
     "collapsed": false,
     "input": [
      "fast_load=\"show version;\\nsessions 20;\\ntenacity 3;\\nSLEEP 1;\\n\""
     ],
     "language": "python",
     "metadata": {},
     "outputs": [],
     "prompt_number": 7
    },
    {
     "cell_type": "heading",
     "level": 1,
     "metadata": {},
     "source": [
      "Load the base table"
     ]
    },
    {
     "cell_type": "code",
     "collapsed": false,
     "input": [
      "with open (\"/prod/user/sam/us/bank/commercial/npi/xgl470/RAR/rar_base.txt\", \"r\") as myfile:\n",
      "    sql=logon+myfile.read()"
     ],
     "language": "python",
     "metadata": {},
     "outputs": [],
     "prompt_number": 7
    },
    {
     "cell_type": "code",
     "collapsed": false,
     "input": [
      "p_btq = Popen(['bteq','<'], stdout=PIPE, stdin=PIPE, stderr=STDOUT, shell=True)          \n",
      "out_err, err_err = p_btq.communicate(input=sql)"
     ],
     "language": "python",
     "metadata": {},
     "outputs": [],
     "prompt_number": 8
    },
    {
     "cell_type": "code",
     "collapsed": false,
     "input": [
      "with open(\"/prod/user/sam/us/bank/commercial/npi/xgl470/RAR/rar.log\", \"w\") as f:\n",
      "    f.write(out_err+'\\n')"
     ],
     "language": "python",
     "metadata": {},
     "outputs": [],
     "prompt_number": 9
    },
    {
     "cell_type": "heading",
     "level": 4,
     "metadata": {},
     "source": [
      "Deposit Calculations"
     ]
    },
    {
     "cell_type": "code",
     "collapsed": false,
     "input": [
      "conn = pyodbc.connect('DRIVER={Teradata};DBCNAME=oneview;UID=COMM_DA;PWD=%s;autocommit=True;'%(pw))"
     ],
     "language": "python",
     "metadata": {},
     "outputs": [],
     "prompt_number": 10
    },
    {
     "cell_type": "code",
     "collapsed": false,
     "input": [
      "dep_sql = \"sel * from ud153.SC_RAR_Deposits;\"  "
     ],
     "language": "python",
     "metadata": {},
     "outputs": [],
     "prompt_number": 11
    },
    {
     "cell_type": "code",
     "collapsed": false,
     "input": [
      "dep_df = pd.read_sql(dep_sql, conn)  "
     ],
     "language": "python",
     "metadata": {},
     "outputs": [],
     "prompt_number": 12
    },
    {
     "cell_type": "code",
     "collapsed": false,
     "input": [
      "conn.close()"
     ],
     "language": "python",
     "metadata": {},
     "outputs": [],
     "prompt_number": 13
    },
    {
     "cell_type": "code",
     "collapsed": false,
     "input": [
      "conn = pyodbc.connect('DRIVER={Teradata};DBCNAME=oneview;UID=COMM_DA;PWD=%s;autocommit=True;'%(pw))"
     ],
     "language": "python",
     "metadata": {},
     "outputs": [],
     "prompt_number": 14
    },
    {
     "cell_type": "code",
     "collapsed": false,
     "input": [
      "loan_sql = 'sel * from ud153.SC_RAR_Loans where curr_year_mce_curr<>0;'  "
     ],
     "language": "python",
     "metadata": {},
     "outputs": [],
     "prompt_number": 15
    },
    {
     "cell_type": "code",
     "collapsed": false,
     "input": [
      "loan_df = pd.read_sql(loan_sql, conn)  "
     ],
     "language": "python",
     "metadata": {},
     "outputs": [],
     "prompt_number": 16
    },
    {
     "cell_type": "code",
     "collapsed": false,
     "input": [
      "conn.close()"
     ],
     "language": "python",
     "metadata": {},
     "outputs": [],
     "prompt_number": 17
    },
    {
     "cell_type": "code",
     "collapsed": false,
     "input": [
      "dep_df['acct_num_sor']=dep_df[\"acct_num\"].map(str) + dep_df[\"sor_id\"].map(str)+ dep_df[\"data_dt\"].map(str)"
     ],
     "language": "python",
     "metadata": {},
     "outputs": [],
     "prompt_number": 18
    },
    {
     "cell_type": "code",
     "collapsed": false,
     "input": [
      "loan_df['acct_num_sor']=loan_df[\"acct_num\"].map(str) + loan_df[\"sor_id\"].map(str)+ loan_df[\"data_dt\"].map(str)"
     ],
     "language": "python",
     "metadata": {},
     "outputs": [],
     "prompt_number": 19
    },
    {
     "cell_type": "code",
     "collapsed": false,
     "input": [
      "for x in loan_df.columns:\n",
      "    if x<>'acct_num_sor':\n",
      "        exec \"loan_%s=loan_df.set_index('acct_num_sor')['%s'].to_dict()\" % (x,x)"
     ],
     "language": "python",
     "metadata": {},
     "outputs": [],
     "prompt_number": 20
    },
    {
     "cell_type": "code",
     "collapsed": false,
     "input": [
      "for x in dep_df.columns:\n",
      "    if x<>'acct_num_sor':\n",
      "        exec \"dep_%s=dep_df.set_index('acct_num_sor')['%s'].to_dict()\" % (x,x)"
     ],
     "language": "python",
     "metadata": {},
     "outputs": [],
     "prompt_number": 21
    },
    {
     "cell_type": "heading",
     "level": 4,
     "metadata": {},
     "source": [
      "LGD and PD Lookups"
     ]
    },
    {
     "cell_type": "code",
     "collapsed": false,
     "input": [
      "conn = pyodbc.connect('DRIVER={Teradata};DBCNAME=oneview;UID=COMM_DA;PWD=%s;autocommit=True;'%(pw))"
     ],
     "language": "python",
     "metadata": {},
     "outputs": [],
     "prompt_number": 22
    },
    {
     "cell_type": "code",
     "collapsed": false,
     "input": [
      "LGD_sql = 'sel trim(LGD_RATG_CD) as LGD_RATG_CD, LGD_PCT  from pbdw.LGD_MSTR_SCALE_BC;' \n",
      "LGD_df = pd.read_sql(LGD_sql, conn)  "
     ],
     "language": "python",
     "metadata": {},
     "outputs": [],
     "prompt_number": 23
    },
    {
     "cell_type": "code",
     "collapsed": false,
     "input": [
      "PD_sql = \"sel trim(POD_RATG_CD) as POD_RATG_CD, AVG_POD_VAL from pbdw.POD_MSTR_SCALE_BC WHERE pod_ratg_type_ind = 'N';\"\n",
      "PD_df = pd.read_sql(PD_sql, conn)  "
     ],
     "language": "python",
     "metadata": {},
     "outputs": [],
     "prompt_number": 24
    },
    {
     "cell_type": "code",
     "collapsed": false,
     "input": [
      "conn.close()"
     ],
     "language": "python",
     "metadata": {},
     "outputs": [],
     "prompt_number": 25
    },
    {
     "cell_type": "code",
     "collapsed": false,
     "input": [
      "PD_dict=PD_df.set_index('POD_RATG_CD')['AVG_POD_VAL'].to_dict()"
     ],
     "language": "python",
     "metadata": {},
     "outputs": [],
     "prompt_number": 26
    },
    {
     "cell_type": "code",
     "collapsed": false,
     "input": [
      "LGD_dict=LGD_df.set_index('LGD_RATG_CD')['LGD_PCT'].to_dict()"
     ],
     "language": "python",
     "metadata": {},
     "outputs": [],
     "prompt_number": 27
    },
    {
     "cell_type": "heading",
     "level": 3,
     "metadata": {},
     "source": [
      "Loan Portion"
     ]
    },
    {
     "cell_type": "heading",
     "level": 4,
     "metadata": {},
     "source": [
      "LGD/PD"
     ]
    },
    {
     "cell_type": "code",
     "collapsed": false,
     "input": [
      "new_loan_columns=[]"
     ],
     "language": "python",
     "metadata": {},
     "outputs": [],
     "prompt_number": 28
    },
    {
     "cell_type": "code",
     "collapsed": false,
     "input": [
      "loan_LGD_naco={}\n",
      "new_loan_columns.append('loan_LGD_naco')\n",
      "for x in loan_acct_type:\n",
      "    lgd_value=loan_lgd_rating_val[x]\n",
      "    if lgd_value not in LGD_dict.keys():\n",
      "        final=0\n",
      "    elif LGD_dict[lgd_value]>1:\n",
      "        final=1\n",
      "    elif LGD_dict[lgd_value]<0:\n",
      "        final=0\n",
      "    else:\n",
      "        final=LGD_dict[lgd_value]\n",
      "    loan_LGD_naco[x]=final"
     ],
     "language": "python",
     "metadata": {},
     "outputs": [],
     "prompt_number": 29
    },
    {
     "cell_type": "code",
     "collapsed": false,
     "input": [
      "loan_LGD_capital={}\n",
      "new_loan_columns.append('loan_LGD_capital')\n",
      "for x in loan_acct_type:\n",
      "    down=1+loan_Downturn_Factor[x]\n",
      "    if math.isnan(down):\n",
      "        down=1\n",
      "    loan_LGD_capital[x]=loan_LGD_naco[x]*down"
     ],
     "language": "python",
     "metadata": {},
     "outputs": [],
     "prompt_number": 30
    },
    {
     "cell_type": "code",
     "collapsed": false,
     "input": [
      "loan_NEW_PD_TTC={}\n",
      "new_loan_columns.append('loan_NEW_PD_TTC')\n",
      "for x in loan_acct_type:\n",
      "    PD_markup=1\n",
      "    pd_value=0\n",
      "    pd_lookup=loan_obligor_rating_val[x]\n",
      "    if pd_lookup in PD_dict.keys():\n",
      "        pd_value=PD_dict[pd_lookup]\n",
      "    new_markup=loan_pd[x]\n",
      "    if math.isnan(new_markup):\n",
      "        new_markup=0\n",
      "    PD_markup=1+new_markup\n",
      "    final=pd_value*PD_markup\n",
      "    if final>1:\n",
      "        final=1\n",
      "    elif final<0:\n",
      "        final=0\n",
      "    loan_NEW_PD_TTC[x]=final"
     ],
     "language": "python",
     "metadata": {},
     "outputs": [],
     "prompt_number": 31
    },
    {
     "cell_type": "heading",
     "level": 4,
     "metadata": {},
     "source": [
      "Base Loan portion"
     ]
    },
    {
     "cell_type": "code",
     "collapsed": false,
     "input": [
      "loan_Term={}\n",
      "new_loan_columns.append('loan_Term')\n",
      "for x in loan_acct_type:\n",
      "    if loan_acct_open_dt[x] is None or loan_acct_matur_dt[x] is None:\n",
      "        loan_Term[x]=0\n",
      "    else:\n",
      "        mature_dt=loan_acct_matur_dt[x]\n",
      "        open_dt=loan_acct_open_dt[x]\n",
      "        years=mature_dt.year-open_dt.year\n",
      "        months=mature_dt.month-open_dt.month\n",
      "        days=mature_dt.day-open_dt.day\n",
      "        delta = mature_dt - open_dt\n",
      "        if months<>0:\n",
      "            d0= open_dt + relativedelta(years=years-1)\n",
      "            new_delta=mature_dt-d0\n",
      "            years=years*1.00+(new_delta.days)*1.00/365\n",
      "        elif days<>0:\n",
      "            years=years*1.00+(days*1.00/365)\n",
      "    loan_Term[x]=years"
     ],
     "language": "python",
     "metadata": {},
     "outputs": [],
     "prompt_number": 32
    },
    {
     "cell_type": "code",
     "collapsed": false,
     "input": [
      "LCR_Runoff_Factor={}\n",
      "new_loan_columns.append('LCR_Runoff_Factor')\n",
      "for x in loan_acct_type:\n",
      "    LCR_Runoff_Factor[x]=loan_outflow_pct[x]*1.2"
     ],
     "language": "python",
     "metadata": {},
     "outputs": [],
     "prompt_number": 33
    },
    {
     "cell_type": "code",
     "collapsed": false,
     "input": [
      "loan_expected_losses={}\n",
      "new_loan_columns.append('loan_expected_losses')\n",
      "for x in loan_acct_type:\n",
      "    TTCPD=loan_NEW_PD_TTC[x]\n",
      "    NACO_LGD=loan_LGD_naco[x]\n",
      "    PIT_EAT=loan_ead_pit[x]\n",
      "    expected_final=TTCPD*NACO_LGD*PIT_EAT\n",
      "    if math.isnan(expected_final):\n",
      "        expected_final=0\n",
      "    elif TTCPD==1:\n",
      "        expected_final=0\n",
      "    elif expected_final<0:\n",
      "        expected_final=0\n",
      "    loan_expected_losses[x]=expected_final"
     ],
     "language": "python",
     "metadata": {},
     "outputs": [],
     "prompt_number": 34
    },
    {
     "cell_type": "code",
     "collapsed": false,
     "input": [
      "EAD_OS={}\n",
      "new_loan_columns.append('EAD_OS')\n",
      "for x in loan_acct_type:\n",
      "    PIT_EAT=loan_ead_pit[x]\n",
      "    curr_year_bal_curr=loan_curr_year_bal_curr[x]\n",
      "    if math.isnan(PIT_EAT)==False and PIT_EAT<>0 and int(curr_year_bal_curr) and curr_year_bal_curr<>0:\n",
      "        EAD_OS[x]=PIT_EAT/curr_year_bal_curr\n",
      "    else:\n",
      "        EAD_OS[x]=0\n",
      "    if EAD_OS[x]<0:\n",
      "        EAD_OS[x]=0"
     ],
     "language": "python",
     "metadata": {},
     "outputs": [],
     "prompt_number": 35
    },
    {
     "cell_type": "code",
     "collapsed": false,
     "input": [
      "Beta={}\n",
      "new_loan_columns.append('Beta')\n",
      "for x in loan_acct_type:\n",
      "    TTCPD1=loan_NEW_PD_TTC[x]\n",
      "    if TTCPD1==0:\n",
      "        TTCPD2=0\n",
      "    else:\n",
      "        TTCPD2=math.log(TTCPD1)*beta_calc2\n",
      "    Beta_final=beta_calc1-TTCPD2\n",
      "    Beta_final2=Beta_final**2\n",
      "    if math.isnan(Beta_final2):\n",
      "        Beta_final2=0\n",
      "    Beta[x]=Beta_final2"
     ],
     "language": "python",
     "metadata": {},
     "outputs": [],
     "prompt_number": 36
    },
    {
     "cell_type": "code",
     "collapsed": false,
     "input": [
      "Alpha={}\n",
      "new_loan_columns.append('Alpha')\n",
      "for x in loan_acct_type:\n",
      "    TTCPD1=loan_NEW_PD_TTC[x]\n",
      "    if TTCPD1==0:\n",
      "        TTCPD=0\n",
      "    else:\n",
      "        TTCPD=math.log10(TTCPD1)\n",
      "    alpha_final=alpha_calc1*TTCPD-alpha_calc2\n",
      "    if alpha_final<0:\n",
      "        alpha_final=0\n",
      "    if alpha_final>1:\n",
      "        alpha_final=1\n",
      "    if math.isnan(alpha_final):\n",
      "        alpha_final=0\n",
      "    Alpha[x]=alpha_final"
     ],
     "language": "python",
     "metadata": {},
     "outputs": [],
     "prompt_number": 37
    },
    {
     "cell_type": "code",
     "collapsed": false,
     "input": [
      "AVC={}\n",
      "new_loan_columns.append('AVC')\n",
      "for x in loan_acct_type:\n",
      "    TTCPD=math.exp(AVC_calc2*loan_NEW_PD_TTC[x])\n",
      "    AVC_final=AVC_calc1+(AVC_calc1*TTCPD)\n",
      "    if math.isnan(AVC_final):\n",
      "        AVC_final=0\n",
      "    AVC[x]=AVC_final"
     ],
     "language": "python",
     "metadata": {},
     "outputs": [],
     "prompt_number": 38
    },
    {
     "cell_type": "heading",
     "level": 4,
     "metadata": {},
     "source": [
      "Beginning the Equity Annual functions"
     ]
    },
    {
     "cell_type": "code",
     "collapsed": false,
     "input": [
      "def Maturity_Factor(account, term):\n",
      "    beta_calc=Beta[account]\n",
      "    matur_calc=term\n",
      "    if term>4:\n",
      "        matur_calc=5\n",
      "    elif term<1:\n",
      "        matur_calc=1\n",
      "    elif 0<=term<=5:\n",
      "        matur_calc=term\n",
      "    else:\n",
      "        matur_calc=0\n",
      "    first_part=1+(matur_calc-2.5)*beta_calc\n",
      "    second_part=(1-1.5*beta_calc)\n",
      "    final=first_part/second_part\n",
      "    return final"
     ],
     "language": "python",
     "metadata": {},
     "outputs": [],
     "prompt_number": 39
    },
    {
     "cell_type": "code",
     "collapsed": false,
     "input": [
      "def Reg_Capital(Account, Term):\n",
      "    AVC_calc=AVC[Account]\n",
      "    TTC_calc1=loan_NEW_PD_TTC[Account]\n",
      "    DT_LGD=loan_LGD_capital[Account]\n",
      "    MAT_Fact=Maturity_Factor(Account,Term)\n",
      "    TTC_Calc=norm.ppf(TTC_calc1)\n",
      "    AVC_inverse_sqr=1/math.sqrt((1-AVC_calc))\n",
      "    AVC_Sqr=math.sqrt((AVC_calc/(1-AVC_calc)))\n",
      "    First_Part=AVC_inverse_sqr*TTC_Calc\n",
      "    Second_Part=AVC_Sqr*norm.ppf(Reg_Capital_calc)\n",
      "    Final=norm.cdf(First_Part+Second_Part)\n",
      "    Final1=Final-TTC_calc1\n",
      "    Final2=Final1*DT_LGD*MAT_Fact\n",
      "    return Final2"
     ],
     "language": "python",
     "metadata": {},
     "outputs": [],
     "prompt_number": 40
    },
    {
     "cell_type": "code",
     "collapsed": false,
     "input": [
      "def Soft_cap_maturity_Factor(account, time_to_maturity):\n",
      "    beta_calc=Beta[account]\n",
      "    alpha_calc=Alpha[account]\n",
      "    matur_calc=time_to_maturity\n",
      "    if time_to_maturity<1:\n",
      "        matur_calc=1\n",
      "    elif time_to_maturity<5 and time_to_maturity>1:\n",
      "        matur_calc=time_to_maturity\n",
      "    else:\n",
      "        matur_calc=math.pow(5, 1-alpha_calc)*math.pow(time_to_maturity, alpha_calc)\n",
      "    first_part=1+(matur_calc-2.5)*beta_calc\n",
      "    second_part=(1-1.5*beta_calc)\n",
      "    final=first_part/second_part\n",
      "    return final"
     ],
     "language": "python",
     "metadata": {},
     "outputs": [],
     "prompt_number": 41
    },
    {
     "cell_type": "code",
     "collapsed": false,
     "input": [
      "def Econ_Capital(Account, term):\n",
      "    AVC_calc=AVC[Account]\n",
      "    TTC_calc1=loan_NEW_PD_TTC[Account]\n",
      "    DT_LGD=loan_LGD_capital[Account]\n",
      "    MAT_Fact=Maturity_Factor(Account,term)\n",
      "    TTC_Calc=norm.ppf(TTC_calc1)\n",
      "    AVC_inverse_sqr=1/math.sqrt((1-AVC_calc))\n",
      "    AVC_Sqr=math.sqrt((AVC_calc/(1-AVC_calc)))\n",
      "    First_Part=AVC_inverse_sqr*TTC_Calc\n",
      "    Second_Part=AVC_Sqr*norm.ppf(Econ_Capital_calc)\n",
      "    Final=norm.cdf(First_Part+Second_Part)\n",
      "    Final1=Final-TTC_calc1\n",
      "    Final2=Final1*DT_LGD*MAT_Fact\n",
      "    return Final2"
     ],
     "language": "python",
     "metadata": {},
     "outputs": [],
     "prompt_number": 42
    },
    {
     "cell_type": "code",
     "collapsed": false,
     "input": [
      "def credit_equity_ead(Account, term):\n",
      "    reg_cap=Reg_Capital(Account,term)\n",
      "    econ_cap=Econ_Capital(Account,term)\n",
      "    return reg_cap*credit_equity_calc1*credit_equity_calc2+econ_cap*credit_equity_calc3*credit_equity_calc4"
     ],
     "language": "python",
     "metadata": {},
     "outputs": [],
     "prompt_number": 43
    },
    {
     "cell_type": "code",
     "collapsed": false,
     "input": [
      "def credit_equity_os(Account, term):\n",
      "    ead=loan_ead_pit[x]\n",
      "    credit_equity__percent=credit_equity_ead(Account,term)\n",
      "    final=credit_equity__percent*ead\n",
      "    if final<0:\n",
      "        final=0\n",
      "    return final"
     ],
     "language": "python",
     "metadata": {},
     "outputs": [],
     "prompt_number": 44
    },
    {
     "cell_type": "code",
     "collapsed": false,
     "input": [
      "def strat_ops_equity(account):\n",
      "    final=Strat_Ops_equity_percent*loan_curr_year_bal_curr[x]\n",
      "    if final<0:\n",
      "        final=0\n",
      "    return final"
     ],
     "language": "python",
     "metadata": {},
     "outputs": [],
     "prompt_number": 45
    },
    {
     "cell_type": "code",
     "collapsed": false,
     "input": [
      "def defaulted_amount(account):\n",
      "    final=0\n",
      "    if loan_NEW_PD_TTC[x]==1:\n",
      "        final=ead_defaulted*loan_curr_year_bal_curr[x]\n",
      "    if final<0:\n",
      "        final=0\n",
      "    return final"
     ],
     "language": "python",
     "metadata": {},
     "outputs": [],
     "prompt_number": 46
    },
    {
     "cell_type": "code",
     "collapsed": false,
     "input": [
      "def total_equity_hold(account,term):\n",
      "    return strat_ops_equity(account)+credit_equity_os(account, term)+defaulted_amount(account)"
     ],
     "language": "python",
     "metadata": {},
     "outputs": [],
     "prompt_number": 47
    },
    {
     "cell_type": "code",
     "collapsed": false,
     "input": [
      "Year1_equity_hold={}\n",
      "Year1_maturity_factor={}\n",
      "Year1_soft_cap_maturity_factor={}\n",
      "Year1_Reg_Capital_EAD={}\n",
      "Year1_Econ_Capital_EAD={}\n",
      "Year1_credit_equity_EAD_dict={}\n",
      "Year1_credit_equity_os_dict={}\n",
      "strat_ops_equity_dict={}\n",
      "new_loan_columns.append('Year1_equity_hold')\n",
      "new_loan_columns.append('Year1_maturity_factor')\n",
      "new_loan_columns.append('Year1_soft_cap_maturity_factor')\n",
      "new_loan_columns.append('Year1_Reg_Capital_EAD')\n",
      "new_loan_columns.append('Year1_Econ_Capital_EAD')\n",
      "new_loan_columns.append('Year1_credit_equity_EAD_dict')\n",
      "new_loan_columns.append('Year1_credit_equity_os_dict')\n",
      "new_loan_columns.append('strat_ops_equity_dict')\n",
      "for x in loan_acct_type:\n",
      "    #term=loan_Term[x]\n",
      "    term=1\n",
      "    if loan_Term[x]>0 and loan_Term[x]<term:\n",
      "        term=loan_Term[x]\n",
      "    if loan_Term[x]>0:\n",
      "        Year1_maturity_factor[x]=Maturity_Factor(x,term)\n",
      "        Year1_soft_cap_maturity_factor[x]=Soft_cap_maturity_Factor(x,term)\n",
      "        Year1_Reg_Capital_EAD[x]=Reg_Capital(x,term)\n",
      "        Year1_Econ_Capital_EAD[x]=Econ_Capital(x,term)\n",
      "        Year1_credit_equity_EAD_dict[x]=credit_equity_ead(x,term)\n",
      "        Year1_credit_equity_os_dict[x]=credit_equity_os(x,term)\n",
      "        strat_ops_equity_dict[x]=strat_ops_equity(x)\n",
      "        Year1_equity_hold[x]=total_equity_hold(x,term)\n",
      "    else:\n",
      "        Year1_maturity_factor[x]=0\n",
      "        Year1_soft_cap_maturity_factor[x]=0\n",
      "        Year1_Reg_Capital_EAD[x]=0\n",
      "        Year1_Econ_Capital_EAD[x]=0\n",
      "        Year1_credit_equity_EAD_dict[x]=0\n",
      "        Year1_credit_equity_os_dict[x]=0\n",
      "        strat_ops_equity_dict[x]=0\n",
      "        Year1_equity_hold[x]=0"
     ],
     "language": "python",
     "metadata": {},
     "outputs": [],
     "prompt_number": 48
    },
    {
     "cell_type": "code",
     "collapsed": false,
     "input": [
      "Year2_equity_hold={}\n",
      "Year2_maturity_factor={}\n",
      "Year2_soft_cap_maturity_factor={}\n",
      "Year2_Reg_Capital_EAD={}\n",
      "Year2_Econ_Capital_EAD={}\n",
      "Year2_credit_equity_EAD_dict={}\n",
      "Year2_credit_equity_os_dict={}\n",
      "new_loan_columns.append('Year2_equity_hold')\n",
      "new_loan_columns.append('Year2_maturity_factor')\n",
      "new_loan_columns.append('Year2_soft_cap_maturity_factor')\n",
      "new_loan_columns.append('Year2_Reg_Capital_EAD')\n",
      "new_loan_columns.append('Year2_Econ_Capital_EAD')\n",
      "new_loan_columns.append('Year2_credit_equity_EAD_dict')\n",
      "new_loan_columns.append('Year2_credit_equity_os_dict')\n",
      "for x in loan_acct_type:\n",
      "    #term=loan_Term[x]\n",
      "    term=2\n",
      "    if loan_Term[x]>1 and loan_Term[x]<term:\n",
      "        term=loan_Term[x]\n",
      "    if loan_Term[x]>1:\n",
      "        Year2_maturity_factor[x]=Maturity_Factor(x,term)\n",
      "        Year2_soft_cap_maturity_factor[x]=Soft_cap_maturity_Factor(x,term)\n",
      "        Year2_Reg_Capital_EAD[x]=Reg_Capital(x,term)\n",
      "        Year2_Econ_Capital_EAD[x]=Econ_Capital(x,term)\n",
      "        Year2_credit_equity_EAD_dict[x]=credit_equity_ead(x,term)\n",
      "        Year2_credit_equity_os_dict[x]=credit_equity_os(x,term)\n",
      "        Year2_equity_hold[x]=total_equity_hold(x,term)\n",
      "    else:\n",
      "        Year2_maturity_factor[x]=0\n",
      "        Year2_soft_cap_maturity_factor[x]=0\n",
      "        Year2_Reg_Capital_EAD[x]=0\n",
      "        Year2_Econ_Capital_EAD[x]=0\n",
      "        Year2_credit_equity_EAD_dict[x]=0\n",
      "        Year2_credit_equity_os_dict[x]=0\n",
      "        Year2_equity_hold[x]=0"
     ],
     "language": "python",
     "metadata": {},
     "outputs": [],
     "prompt_number": 49
    },
    {
     "cell_type": "code",
     "collapsed": false,
     "input": [
      "Year3_equity_hold={}\n",
      "Year3_maturity_factor={}\n",
      "Year3_soft_cap_maturity_factor={}\n",
      "Year3_Reg_Capital_EAD={}\n",
      "Year3_Econ_Capital_EAD={}\n",
      "Year3_credit_equity_EAD_dict={}\n",
      "Year3_credit_equity_os_dict={}\n",
      "new_loan_columns.append('Year3_equity_hold')\n",
      "new_loan_columns.append('Year3_maturity_factor')\n",
      "new_loan_columns.append('Year3_soft_cap_maturity_factor')\n",
      "new_loan_columns.append('Year3_Reg_Capital_EAD')\n",
      "new_loan_columns.append('Year3_Econ_Capital_EAD')\n",
      "new_loan_columns.append('Year3_credit_equity_EAD_dict')\n",
      "new_loan_columns.append('Year3_credit_equity_os_dict')\n",
      "for x in loan_acct_type:\n",
      "    #term=loan_Term[x]\n",
      "    term=3\n",
      "    if loan_Term[x]>2 and loan_Term[x]<term:\n",
      "        term=loan_Term[x]\n",
      "    if loan_Term[x]>2:\n",
      "        Year3_maturity_factor[x]=Maturity_Factor(x,term)\n",
      "        Year3_soft_cap_maturity_factor[x]=Soft_cap_maturity_Factor(x,term)\n",
      "        Year3_Reg_Capital_EAD[x]=Reg_Capital(x,term)\n",
      "        Year3_Econ_Capital_EAD[x]=Econ_Capital(x,term)\n",
      "        Year3_credit_equity_EAD_dict[x]=credit_equity_ead(x,term)\n",
      "        Year3_credit_equity_os_dict[x]=credit_equity_os(x,term)\n",
      "        Year3_equity_hold[x]=total_equity_hold(x,term)\n",
      "    else:\n",
      "        Year3_maturity_factor[x]=0\n",
      "        Year3_soft_cap_maturity_factor[x]=0\n",
      "        Year3_Reg_Capital_EAD[x]=0\n",
      "        Year3_Econ_Capital_EAD[x]=0\n",
      "        Year3_credit_equity_EAD_dict[x]=0\n",
      "        Year3_credit_equity_os_dict[x]=0\n",
      "        Year3_equity_hold[x]=0"
     ],
     "language": "python",
     "metadata": {},
     "outputs": [],
     "prompt_number": 50
    },
    {
     "cell_type": "code",
     "collapsed": false,
     "input": [
      "Year4_equity_hold={}\n",
      "Year4_maturity_factor={}\n",
      "Year4_soft_cap_maturity_factor={}\n",
      "Year4_Reg_Capital_EAD={}\n",
      "Year4_Econ_Capital_EAD={}\n",
      "Year4_credit_equity_EAD_dict={}\n",
      "Year4_credit_equity_os_dict={}\n",
      "new_loan_columns.append('Year4_equity_hold')\n",
      "new_loan_columns.append('Year4_maturity_factor')\n",
      "new_loan_columns.append('Year4_soft_cap_maturity_factor')\n",
      "new_loan_columns.append('Year4_Reg_Capital_EAD')\n",
      "new_loan_columns.append('Year4_Econ_Capital_EAD')\n",
      "new_loan_columns.append('Year4_credit_equity_EAD_dict')\n",
      "new_loan_columns.append('Year4_credit_equity_os_dict')\n",
      "for x in loan_acct_type:\n",
      "    #term=loan_Term[x]\n",
      "    term=4\n",
      "    if loan_Term[x]>3 and loan_Term[x]<term:\n",
      "        term=loan_Term[x]\n",
      "    if loan_Term[x]>3:\n",
      "        Year4_maturity_factor[x]=Maturity_Factor(x,term)\n",
      "        Year4_soft_cap_maturity_factor[x]=Soft_cap_maturity_Factor(x,term)\n",
      "        Year4_Reg_Capital_EAD[x]=Reg_Capital(x,term)\n",
      "        Year4_Econ_Capital_EAD[x]=Econ_Capital(x,term)\n",
      "        Year4_credit_equity_EAD_dict[x]=credit_equity_ead(x,term)\n",
      "        Year4_credit_equity_os_dict[x]=credit_equity_os(x,term)\n",
      "        Year4_equity_hold[x]=total_equity_hold(x,term)\n",
      "    else:\n",
      "        Year4_maturity_factor[x]=0\n",
      "        Year4_soft_cap_maturity_factor[x]=0\n",
      "        Year4_Reg_Capital_EAD[x]=0\n",
      "        Year4_Econ_Capital_EAD[x]=0\n",
      "        Year4_credit_equity_EAD_dict[x]=0\n",
      "        Year4_credit_equity_os_dict[x]=0\n",
      "        Year4_equity_hold[x]=0"
     ],
     "language": "python",
     "metadata": {},
     "outputs": [],
     "prompt_number": 51
    },
    {
     "cell_type": "code",
     "collapsed": false,
     "input": [
      "Year5_equity_hold={}\n",
      "Year5_maturity_factor={}\n",
      "Year5_soft_cap_maturity_factor={}\n",
      "Year5_Reg_Capital_EAD={}\n",
      "Year5_Econ_Capital_EAD={}\n",
      "Year5_credit_equity_EAD_dict={}\n",
      "Year5_credit_equity_os_dict={}\n",
      "new_loan_columns.append('Year5_equity_hold')\n",
      "new_loan_columns.append('Year5_maturity_factor')\n",
      "new_loan_columns.append('Year5_soft_cap_maturity_factor')\n",
      "new_loan_columns.append('Year5_Reg_Capital_EAD')\n",
      "new_loan_columns.append('Year5_Econ_Capital_EAD')\n",
      "new_loan_columns.append('Year5_credit_equity_EAD_dict')\n",
      "new_loan_columns.append('Year5_credit_equity_os_dict')\n",
      "for x in loan_acct_type:\n",
      "    #term=loan_Term[x]\n",
      "    term=5\n",
      "    term_calc=1\n",
      "    if loan_Term[x]>4 and loan_Term[x]<term:\n",
      "        term_calc=term-loan_Term[x]\n",
      "    if loan_Term[x]>4:\n",
      "        Year5_maturity_factor[x]=Maturity_Factor(x,term)\n",
      "        Year5_soft_cap_maturity_factor[x]=Soft_cap_maturity_Factor(x,term)\n",
      "        Year5_Reg_Capital_EAD[x]=Reg_Capital(x,term)\n",
      "        Year5_Econ_Capital_EAD[x]=Econ_Capital(x,term)\n",
      "        Year5_credit_equity_EAD_dict[x]=credit_equity_ead(x,term)\n",
      "        Year5_credit_equity_os_dict[x]=credit_equity_os(x,term)\n",
      "        Year5_equity_hold[x]=total_equity_hold(x,term)*term_calc\n",
      "    else:\n",
      "        Year5_maturity_factor[x]=0\n",
      "        Year5_soft_cap_maturity_factor[x]=0\n",
      "        Year5_Reg_Capital_EAD[x]=0\n",
      "        Year5_Econ_Capital_EAD[x]=0\n",
      "        Year5_credit_equity_EAD_dict[x]=0\n",
      "        Year5_credit_equity_os_dict[x]=0\n",
      "        Year5_equity_hold[x]=0"
     ],
     "language": "python",
     "metadata": {},
     "outputs": [],
     "prompt_number": 52
    },
    {
     "cell_type": "code",
     "collapsed": false,
     "input": [
      "Total_equity_hold_dict={}\n",
      "Avg_equity_hold_dict={}\n",
      "Annual_equity_hold_dict={}\n",
      "Avg_equity_hold_opp_cost_dict={}\n",
      "new_loan_columns.append('Total_equity_hold_dict')\n",
      "new_loan_columns.append('Avg_equity_hold_dict')\n",
      "new_loan_columns.append('Annual_equity_hold_dict')\n",
      "new_loan_columns.append('Avg_equity_hold_opp_cost_dict')\n",
      "for x in loan_acct_type:\n",
      "    Total_equity_hold_1_thru_4=0\n",
      "    Total_equity_5=0\n",
      "    Total_equity_hold=0\n",
      "    Total_equity_hold_1_thru_4=Year1_equity_hold[x]+Year2_equity_hold[x]+Year3_equity_hold[x]+Year4_equity_hold[x]\n",
      "    if loan_Term[x]>4:\n",
      "        five_plus_holds=loan_Term[x]-4\n",
      "        Total_equity_5=five_plus_holds*Year5_equity_hold[x]\n",
      "    Total_equity_hold=Total_equity_5+Total_equity_hold_1_thru_4\n",
      "    Total_equity_hold_dict[x]=Total_equity_hold\n",
      "    if loan_Term[x]==0:\n",
      "        Avg_equity_hold_dict[x]=0\n",
      "    else:\n",
      "        Avg_equity_hold_dict[x]=Total_equity_hold/loan_Term[x]\n",
      "    Annual_equity_hold_dict[x]=Avg_equity_hold_dict[x]/loan_ead_pit[x]\n",
      "    Avg_equity_hold_opp_cost_dict[x]=Avg_equity_hold_dict[x]*(opportunity_cost-.03)/12"
     ],
     "language": "python",
     "metadata": {},
     "outputs": [],
     "prompt_number": 53
    },
    {
     "cell_type": "code",
     "collapsed": false,
     "input": [
      "def liquidity_cost(account):\n",
      "    draw=loan_drawable_amt[x]\n",
      "    runoff=LCR_Runoff_Factor[x]\n",
      "    final=draw*runoff*liquid_cost/12\n",
      "    return final"
     ],
     "language": "python",
     "metadata": {},
     "outputs": [],
     "prompt_number": 54
    },
    {
     "cell_type": "code",
     "collapsed": false,
     "input": [
      "def liquidity_held(account):\n",
      "    draw=loan_drawable_amt[x]\n",
      "    runoff=LCR_Runoff_Factor[x]\n",
      "    final=draw*runoff*LCR_liquid_held\n",
      "    return final"
     ],
     "language": "python",
     "metadata": {},
     "outputs": [],
     "prompt_number": 55
    },
    {
     "cell_type": "code",
     "collapsed": false,
     "input": [
      "def liquidity_opp_cost(account):\n",
      "    held=liquidity_held(x)\n",
      "    return held*opportunity_cost/12"
     ],
     "language": "python",
     "metadata": {},
     "outputs": [],
     "prompt_number": 56
    },
    {
     "cell_type": "code",
     "collapsed": false,
     "input": [
      "total_lcr={}\n",
      "liquidity_cost_dict={}\n",
      "liquidity_held_dict={}\n",
      "liquidity_opp_cost_dict={}\n",
      "loan_rev_el={}\n",
      "loan_rev_el_oppcost={}\n",
      "loan_rev_el_oppcost_lcr_cost={}\n",
      "rar_A_ratio={}\n",
      "rar_B_ratio={}\n",
      "rar_C_ratio={}\n",
      "new_loan_columns.append('total_lcr')\n",
      "new_loan_columns.append('liquidity_cost_dict')\n",
      "new_loan_columns.append('liquidity_held_dict')\n",
      "new_loan_columns.append('liquidity_opp_cost_dict')\n",
      "new_loan_columns.append('loan_rev_el')\n",
      "new_loan_columns.append('loan_rev_el_oppcost')\n",
      "new_loan_columns.append('loan_rev_el_oppcost_lcr_cost')\n",
      "new_loan_columns.append('rar_A_ratio')\n",
      "new_loan_columns.append('rar_B_ratio')\n",
      "new_loan_columns.append('rar_C_ratio')\n",
      "for x in loan_acct_type:\n",
      "    #LCR stuff\n",
      "    liquidity_cost_dict[x]=liquidity_cost(x)\n",
      "    liquidity_held_dict[x]=liquidity_held(x)\n",
      "    liquidity_opp_cost_dict[x]=liquidity_opp_cost(x)\n",
      "    total_lcr[x]=liquidity_cost(x)+liquidity_opp_cost(x)\n",
      "    #Calculations\n",
      "    expected_loss=loan_expected_losses[x]/12\n",
      "    equi_opp=Avg_equity_hold_opp_cost_dict[x]\n",
      "    LCR_total=total_lcr[x]\n",
      "    if math.isnan(expected_loss):\n",
      "        expected_loss=0\n",
      "    if math.isnan(equi_opp):\n",
      "        equi_opp=0\n",
      "    if math.isnan(LCR_total):\n",
      "        LCR_total=0\n",
      "    #Revenue Stuff\n",
      "    loan_rev_el[x]=loan_curr_mnth_revenue[x]-expected_loss\n",
      "    loan_rev_el_oppcost[x]=loan_rev_el[x]-equi_opp\n",
      "    loan_rev_el_oppcost_lcr_cost[x]=loan_rev_el_oppcost[x]-LCR_total\n",
      "    #Ratios\n",
      "    rar_A_ratio[x]=loan_rev_el[x]/loan_curr_mnth_revenue[x]\n",
      "    rar_B_ratio[x]=loan_rev_el_oppcost[x]/loan_curr_mnth_revenue[x]\n",
      "    rar_C_ratio[x]=loan_rev_el_oppcost_lcr_cost[x]/loan_curr_mnth_revenue[x]"
     ],
     "language": "python",
     "metadata": {},
     "outputs": [],
     "prompt_number": 57
    },
    {
     "cell_type": "code",
     "collapsed": false,
     "input": [
      "def dict_to_df(dictionary, new_row_name):\n",
      "    return pd.DataFrame(dictionary.items(), columns=['acct_num_sor', '%s' %(new_row_name)])"
     ],
     "language": "python",
     "metadata": {},
     "outputs": [],
     "prompt_number": 58
    },
    {
     "cell_type": "code",
     "collapsed": false,
     "input": [
      "def dict_to_df2(dictionary, old_df):\n",
      "    new=\"%s=pd.merge(%s, dict_to_df(%s, '%s'), on='acct_num_sor', how='inner')\" %(old_df,old_df,dictionary,dictionary)\n",
      "    exec(\"%s\" %new) in globals()"
     ],
     "language": "python",
     "metadata": {},
     "outputs": [],
     "prompt_number": 59
    },
    {
     "cell_type": "code",
     "collapsed": false,
     "input": [
      "for x in new_loan_columns:\n",
      "    dict_to_df2(x,'loan_df')"
     ],
     "language": "python",
     "metadata": {},
     "outputs": [],
     "prompt_number": 60
    },
    {
     "cell_type": "code",
     "collapsed": false,
     "input": [
      "#loan_df.to_csv('loan_df.csv')"
     ],
     "language": "python",
     "metadata": {},
     "outputs": [],
     "prompt_number": 61
    },
    {
     "cell_type": "heading",
     "level": 1,
     "metadata": {},
     "source": [
      "Deposit Portion"
     ]
    },
    {
     "cell_type": "code",
     "collapsed": false,
     "input": [
      "new_deposit_columns=[]"
     ],
     "language": "python",
     "metadata": {},
     "outputs": [],
     "prompt_number": 62
    },
    {
     "cell_type": "code",
     "collapsed": false,
     "input": [
      "dep_runoff_percent_basel={}\n",
      "new_deposit_columns.append('dep_runoff_percent_basel')\n",
      "dep_runoff_percent_basel_non_operational={}\n",
      "dep_runoff_percent_basel_operational={}\n",
      "new_deposit_columns.append('dep_runoff_percent_basel_non_operational')\n",
      "new_deposit_columns.append('dep_runoff_percent_basel_operational')\n",
      "LCR_Label={}\n",
      "new_deposit_columns.append('LCR_Label')\n",
      "for x in dep_acct_type:\n",
      "    dep_runoff_percent_basel[x]=0\n",
      "    dep_runoff_percent_basel_non_operational[x]=0\n",
      "    dep_runoff_percent_basel_operational[x]=0\n",
      "for x in dep_acct_type:\n",
      "    if math.isnan(dep_SECURED_FLAG[x])==False and dep_SECURED_FLAG[x]<>0:\n",
      "        LCR_Label[x]='Secured'\n",
      "        dep_runoff_percent_basel[x]=secured\n",
      "    elif dep_SEGMENT_FLAG[x]=='E':\n",
      "        LCR_Label[x]='Escrow'\n",
      "        dep_runoff_percent_basel[x]=Escrow_deposit\n",
      "    elif dep_IO_NRF_IA_FLAG[x]=='Y':\n",
      "        LCR_Label[x]='NRF'\n",
      "        dep_runoff_percent_basel[x]=NRF_Deposit\n",
      "    elif dep_SEGMENT_FLAG[x]=='P':\n",
      "        LCR_Label[x]='Personal'\n",
      "        dep_runoff_percent_basel[x]=personal_deposit\n",
      "    elif dep_FINANCIAL_COUNTERPARTY[x]=='Y':\n",
      "        LCR_Label[x]='Financial'\n",
      "        dep_runoff_percent_basel_non_operational[x]=financial_deposits_non_operational\n",
      "        dep_runoff_percent_basel_operational[x]=financial_deposits_operational\n",
      "    elif dep_FINANCIAL_COUNTERPARTY[x]=='N':\n",
      "        LCR_Label[x]='Non-Financial'\n",
      "        dep_runoff_percent_basel_non_operational[x]=non_financial_deposits_non_operational\n",
      "        dep_runoff_percent_basel_operational[x]=non_financial_deposits_operational\n",
      "    else:\n",
      "        dep_runoff_percent_basel[x]=0\n",
      "        dep_runoff_percent_basel_non_operational[x]=0\n",
      "        dep_runoff_percent_basel_operational[x]=0"
     ],
     "language": "python",
     "metadata": {},
     "outputs": [],
     "prompt_number": 63
    },
    {
     "cell_type": "code",
     "collapsed": false,
     "input": [
      "def lcr_runoff(account):\n",
      "    basel=dep_runoff_percent_basel[account]*dep_LCR_CURR_BAL[account]\n",
      "    non_op=dep_runoff_percent_basel_non_operational[account]*(dep_NON_OP_BALANCE[account]+dep_NON_OP_BALANCE_BB[account])\n",
      "    op=dep_runoff_percent_basel_operational[account]*(dep_OP_BALANCE[account]+dep_OP_BALANCE_BB[account])\n",
      "    if math.isnan(basel):\n",
      "        basel=0\n",
      "    if math.isnan(non_op):\n",
      "        non_op=0\n",
      "    if math.isnan(op):\n",
      "        op=0\n",
      "    final=basel+non_op+op\n",
      "    return final"
     ],
     "language": "python",
     "metadata": {},
     "outputs": [],
     "prompt_number": 64
    },
    {
     "cell_type": "code",
     "collapsed": false,
     "input": [
      "dep_lcr_runoff={}\n",
      "new_deposit_columns.append('dep_lcr_runoff')\n",
      "for x in dep_acct_type:\n",
      "    if lcr_runoff(x)>0:\n",
      "       dep_lcr_runoff[x]=lcr_runoff(x)\n",
      "    else:\n",
      "        dep_lcr_runoff[x]=0"
     ],
     "language": "python",
     "metadata": {},
     "outputs": [],
     "prompt_number": 65
    },
    {
     "cell_type": "code",
     "collapsed": false,
     "input": [
      "dep_lcr_cost={}\n",
      "new_deposit_columns.append('dep_lcr_cost')\n",
      "for x in dep_acct_type:\n",
      "    dep_lcr_cost[x]=0\n",
      "    if math.isnan(dep_SECURED_FLAG[x])==False and dep_SECURED_FLAG[x]<>0:\n",
      "        dep_lcr_cost[x]=0\n",
      "    else:\n",
      "        dep_lcr_cost[x]=dep_lcr_runoff[x]*LCR_cost_bps"
     ],
     "language": "python",
     "metadata": {},
     "outputs": [],
     "prompt_number": 66
    },
    {
     "cell_type": "code",
     "collapsed": false,
     "input": [
      "dep_lcr_equit_cost={}\n",
      "new_deposit_columns.append('dep_lcr_equit_cost')\n",
      "for x in dep_acct_type:\n",
      "    dep_lcr_equit_cost[x]=dep_lcr_runoff[x]*LCR_hqla_held"
     ],
     "language": "python",
     "metadata": {},
     "outputs": [],
     "prompt_number": 67
    },
    {
     "cell_type": "code",
     "collapsed": false,
     "input": [
      "dep_lcr_equit_opp_cost={}\n",
      "new_deposit_columns.append('dep_lcr_equit_opp_cost')\n",
      "for x in dep_acct_type:\n",
      "    dep_lcr_equit_opp_cost[x]=dep_lcr_equit_cost[x]*opportunity_cost"
     ],
     "language": "python",
     "metadata": {},
     "outputs": [],
     "prompt_number": 68
    },
    {
     "cell_type": "code",
     "collapsed": false,
     "input": [
      "dep_rev_ecr={}\n",
      "new_deposit_columns.append('dep_rev_ecr')\n",
      "for x in dep_acct_type:\n",
      "    dep_rev_ecr[x]=dep_curr_mnth_revenue[x]-dep_curr_mnth_tm_ecr[x]"
     ],
     "language": "python",
     "metadata": {},
     "outputs": [],
     "prompt_number": 69
    },
    {
     "cell_type": "code",
     "collapsed": false,
     "input": [
      "dep_Strat_Ops={}\n",
      "new_deposit_columns.append('dep_Strat_Ops')\n",
      "for x in dep_acct_type:\n",
      "    final=dep_curr_year_bal_curr[x]*Strat_Ops_equity_percent\n",
      "    if final<0:\n",
      "        final=0\n",
      "    dep_Strat_Ops[x]=final"
     ],
     "language": "python",
     "metadata": {},
     "outputs": [],
     "prompt_number": 70
    },
    {
     "cell_type": "code",
     "collapsed": false,
     "input": [
      "dep_Strat_Ops_Opp_cost={}\n",
      "new_deposit_columns.append('dep_Strat_Ops_Opp_cost')\n",
      "for x in dep_acct_type:\n",
      "    dep_Strat_Ops_Opp_cost[x]=dep_Strat_Ops[x]*opportunity_cost"
     ],
     "language": "python",
     "metadata": {},
     "outputs": [],
     "prompt_number": 71
    },
    {
     "cell_type": "code",
     "collapsed": false,
     "input": [
      "dep_Strat_Ops_Opp_cost_mnthly={}\n",
      "new_deposit_columns.append('dep_Strat_Ops_Opp_cost_mnthly')\n",
      "for x in dep_acct_type:\n",
      "    dep_Strat_Ops_Opp_cost_mnthly[x]=dep_Strat_Ops_Opp_cost[x]/12"
     ],
     "language": "python",
     "metadata": {},
     "outputs": [],
     "prompt_number": 72
    },
    {
     "cell_type": "code",
     "collapsed": false,
     "input": [
      "dep_lcr_cost_mnthly={}\n",
      "new_deposit_columns.append('dep_lcr_cost_mnthly')\n",
      "for x in dep_acct_type:\n",
      "    dep_lcr_cost_mnthly[x]=dep_lcr_cost[x]/12"
     ],
     "language": "python",
     "metadata": {},
     "outputs": [],
     "prompt_number": 73
    },
    {
     "cell_type": "code",
     "collapsed": false,
     "input": [
      "dep_lcr_equit_opp_cost_mthly={}\n",
      "new_deposit_columns.append('dep_lcr_equit_opp_cost_mthly')\n",
      "for x in dep_acct_type:\n",
      "    dep_lcr_equit_opp_cost_mthly[x]=dep_lcr_equit_opp_cost[x]/12"
     ],
     "language": "python",
     "metadata": {},
     "outputs": [],
     "prompt_number": 74
    },
    {
     "cell_type": "code",
     "collapsed": false,
     "input": [
      "dep_rar_a={}\n",
      "new_deposit_columns.append('dep_rar_a')\n",
      "for x in dep_acct_type:\n",
      "    dep_rar_a[x]=dep_curr_mnth_revenue[x]-dep_Strat_Ops_Opp_cost_mnthly[x]#-dep_curr_mnth_tm_ecr[x]"
     ],
     "language": "python",
     "metadata": {},
     "outputs": [],
     "prompt_number": 75
    },
    {
     "cell_type": "code",
     "collapsed": false,
     "input": [
      "dep_rar_b={}\n",
      "new_deposit_columns.append('dep_rar_b')\n",
      "for x in dep_acct_type:\n",
      "    total=dep_lcr_cost_mnthly[x]+dep_lcr_equit_opp_cost_mthly[x]\n",
      "    dep_rar_b[x]=dep_curr_mnth_revenue[x]-total#-dep_curr_mnth_tm_ecr[x]"
     ],
     "language": "python",
     "metadata": {},
     "outputs": [],
     "prompt_number": 76
    },
    {
     "cell_type": "code",
     "collapsed": false,
     "input": [
      "dep_rar_c={}\n",
      "new_deposit_columns.append('dep_rar_c')\n",
      "for x in dep_acct_type:\n",
      "    dep_rar_c[x]=dep_rar_b[x]-dep_Strat_Ops_Opp_cost_mnthly[x]"
     ],
     "language": "python",
     "metadata": {},
     "outputs": [],
     "prompt_number": 77
    },
    {
     "cell_type": "code",
     "collapsed": false,
     "input": [
      "for x in new_deposit_columns:\n",
      "    dict_to_df2(x,'dep_df')"
     ],
     "language": "python",
     "metadata": {},
     "outputs": [],
     "prompt_number": 78
    },
    {
     "cell_type": "heading",
     "level": 4,
     "metadata": {},
     "source": [
      "Saving to excel and outputting to TD"
     ]
    },
    {
     "cell_type": "code",
     "collapsed": false,
     "input": [
      "#dep_df.to_csv('dep_df.csv')"
     ],
     "language": "python",
     "metadata": {},
     "outputs": [],
     "prompt_number": 79
    },
    {
     "cell_type": "code",
     "collapsed": false,
     "input": [
      "#RAR_excel = pd.ExcelWriter(\"/prod/user/sam/us/bank/commercial/npi/xgl470/rar_fields.xlsx\")\n",
      "#dep_df.to_excel(RAR_excel,'Deposit')\n",
      "#loan_df.to_excel(RAR_excel,'Loan')\n",
      "#RAR_excel.save()"
     ],
     "language": "python",
     "metadata": {},
     "outputs": [],
     "prompt_number": 80
    },
    {
     "cell_type": "code",
     "collapsed": false,
     "input": [
      "dep_append=dep_df[[\"acct_num\", \"sor_id\", \"acct_type\", \"data_dt\", \"dep_rar_a\", \"dep_rar_b\", \"dep_rar_c\"]]"
     ],
     "language": "python",
     "metadata": {},
     "outputs": [],
     "prompt_number": 81
    },
    {
     "cell_type": "code",
     "collapsed": false,
     "input": [
      "loan_append=loan_df[[\"acct_num\", \"sor_id\", \"acct_type\", \"data_dt\", \"loan_rev_el\", \"loan_rev_el_oppcost\", \"loan_rev_el_oppcost_lcr_cost\"]]"
     ],
     "language": "python",
     "metadata": {},
     "outputs": [],
     "prompt_number": 82
    },
    {
     "cell_type": "code",
     "collapsed": false,
     "input": [
      "loan_append.columns = [\"acct_num\", \"sor_id\", \"acct_type\", \"data_dt\", \"dep_rar_a\", \"dep_rar_b\", \"dep_rar_c\"]"
     ],
     "language": "python",
     "metadata": {},
     "outputs": [],
     "prompt_number": 83
    },
    {
     "cell_type": "code",
     "collapsed": false,
     "input": [
      "combined=dep_append.append(loan_append)"
     ],
     "language": "python",
     "metadata": {},
     "outputs": [],
     "prompt_number": 84
    },
    {
     "cell_type": "code",
     "collapsed": false,
     "input": [
      "combined.columns = [\"acct_num\", \"si\", \"acct_type\", \"data_dt\", \"dep_rar_a\", \"dep_rar_b\", \"dep_rar_c\"]"
     ],
     "language": "python",
     "metadata": {},
     "outputs": [],
     "prompt_number": 85
    },
    {
     "cell_type": "code",
     "collapsed": false,
     "input": [
      "combined.to_csv('/prod/user/sam/us/bank/commercial/npi/xgl470/RAR/RAR.csv', sep ='|')"
     ],
     "language": "python",
     "metadata": {},
     "outputs": [],
     "prompt_number": 86
    },
    {
     "cell_type": "heading",
     "level": 1,
     "metadata": {},
     "source": [
      "Putting the RAR details into TD"
     ]
    },
    {
     "cell_type": "code",
     "collapsed": false,
     "input": [
      "fast_load=\"show version;\\nsessions 20;\\ntenacity 3;\\nSLEEP 1;\\n\""
     ],
     "language": "python",
     "metadata": {},
     "outputs": [],
     "prompt_number": 87
    },
    {
     "cell_type": "code",
     "collapsed": false,
     "input": [
      "columns=[]"
     ],
     "language": "python",
     "metadata": {},
     "outputs": [],
     "prompt_number": 88
    },
    {
     "cell_type": "code",
     "collapsed": false,
     "input": [
      "for x in dep_df.columns:\n",
      "    columns.append(x)"
     ],
     "language": "python",
     "metadata": {},
     "outputs": [],
     "prompt_number": 89
    },
    {
     "cell_type": "code",
     "collapsed": false,
     "input": [
      "columns=columns[0:1]+columns[3:5]+columns[10:19]+columns[20:]"
     ],
     "language": "python",
     "metadata": {},
     "outputs": [],
     "prompt_number": 90
    },
    {
     "cell_type": "code",
     "collapsed": false,
     "input": [
      "dep_df[columns].to_csv('/prod/user/sam/us/bank/commercial/npi/xgl470/RAR/dep_df.csv', sep ='|')"
     ],
     "language": "python",
     "metadata": {},
     "outputs": [],
     "prompt_number": 91
    },
    {
     "cell_type": "code",
     "collapsed": false,
     "input": [
      "columns=[]"
     ],
     "language": "python",
     "metadata": {},
     "outputs": [],
     "prompt_number": 92
    },
    {
     "cell_type": "code",
     "collapsed": false,
     "input": [
      "for x in loan_df.columns:\n",
      "    columns.append(x)"
     ],
     "language": "python",
     "metadata": {},
     "outputs": [],
     "prompt_number": 93
    },
    {
     "cell_type": "code",
     "collapsed": false,
     "input": [
      "columns=columns[0:1]+columns[3:5]+columns[6:7]+columns[8:9]+columns[13:14]+columns[16:18]+columns[20:23]+columns[23:24]+columns[25:26]+columns[67:74]"
     ],
     "language": "python",
     "metadata": {},
     "outputs": [],
     "prompt_number": 94
    },
    {
     "cell_type": "code",
     "collapsed": false,
     "input": [
      "loan_df[columns].to_csv('/prod/user/sam/us/bank/commercial/npi/xgl470/RAR/loan_df.csv', sep ='|')"
     ],
     "language": "python",
     "metadata": {},
     "outputs": [],
     "prompt_number": 95
    },
    {
     "cell_type": "heading",
     "level": 4,
     "metadata": {},
     "source": [
      "deposit"
     ]
    },
    {
     "cell_type": "code",
     "collapsed": false,
     "input": [
      "with open (\"/prod/user/sam/us/bank/commercial/npi/xgl470/RAR/det_dep_err1.txt\", \"r\") as myfile:\n",
      "    err_file=logon+myfile.read()"
     ],
     "language": "python",
     "metadata": {},
     "outputs": [],
     "prompt_number": 96
    },
    {
     "cell_type": "code",
     "collapsed": false,
     "input": [
      "with open (\"/prod/user/sam/us/bank/commercial/npi/xgl470/RAR/det_dep_err2.txt\", \"r\") as myfile:\n",
      "    err_file2=logon+myfile.read()"
     ],
     "language": "python",
     "metadata": {},
     "outputs": [],
     "prompt_number": 97
    },
    {
     "cell_type": "code",
     "collapsed": false,
     "input": [
      "delete=logon + \"del from ud153.SC_RAR_dep_Detail_stg;\\n \""
     ],
     "language": "python",
     "metadata": {},
     "outputs": [],
     "prompt_number": 98
    },
    {
     "cell_type": "code",
     "collapsed": false,
     "input": [
      "collect_stats=logon + \"collect stats on ud153.SC_RAR_dep_Detail_stg index   ( acct_num ,sor_id ,data_dt );\\n \""
     ],
     "language": "python",
     "metadata": {},
     "outputs": [],
     "prompt_number": 99
    },
    {
     "cell_type": "code",
     "collapsed": false,
     "input": [
      "with open (\"/prod/user/sam/us/bank/commercial/npi/xgl470/RAR/fastload_details_dep.txt\", \"r\") as myfile:\n",
      "    sql=fast_load+logon+myfile.read()"
     ],
     "language": "python",
     "metadata": {},
     "outputs": [],
     "prompt_number": 100
    },
    {
     "cell_type": "code",
     "collapsed": false,
     "input": [
      "p_btq = Popen(['bteq','<'], stdout=PIPE, stdin=PIPE, stderr=STDOUT, shell=True)          \n",
      "out_err, err_err = p_btq.communicate(input=err_file)"
     ],
     "language": "python",
     "metadata": {},
     "outputs": [],
     "prompt_number": 101
    },
    {
     "cell_type": "code",
     "collapsed": false,
     "input": [
      "p_err2 = Popen(['bteq','<'], stdout=PIPE, stdin=PIPE, stderr=STDOUT, shell=True)          \n",
      "out_err2, err_err2 = p_err2.communicate(input=err_file2)"
     ],
     "language": "python",
     "metadata": {},
     "outputs": [],
     "prompt_number": 102
    },
    {
     "cell_type": "code",
     "collapsed": false,
     "input": [
      "p_del = Popen(['bteq','<'], stdout=PIPE, stdin=PIPE, stderr=STDOUT, shell=True)          \n",
      "out_del, err_del = p_del.communicate(input=delete)"
     ],
     "language": "python",
     "metadata": {},
     "outputs": [],
     "prompt_number": 103
    },
    {
     "cell_type": "code",
     "collapsed": false,
     "input": [
      "p = Popen(['fastload','<'], stdout=PIPE, stdin=PIPE, stderr=STDOUT, shell=True)\n",
      "out, err = p.communicate(input=sql)"
     ],
     "language": "python",
     "metadata": {},
     "outputs": [],
     "prompt_number": 104
    },
    {
     "cell_type": "code",
     "collapsed": false,
     "input": [
      "for x in range(0,20):\n",
      "    if 'Total Inserts Applied           =  0' in out:\n",
      "        time.sleep(20)\n",
      "        p = Popen(['fastload','<'], stdout=PIPE, stdin=PIPE, stderr=STDOUT, shell=True)\n",
      "        out, err = p.communicate(input=sql)\n",
      "    else:\n",
      "        break"
     ],
     "language": "python",
     "metadata": {},
     "outputs": [],
     "prompt_number": 105
    },
    {
     "cell_type": "code",
     "collapsed": false,
     "input": [
      "with open (\"/prod/user/sam/us/bank/commercial/npi/xgl470/RAR/rar.log\", \"r\") as myfile:\n",
      "    log=myfile.read()"
     ],
     "language": "python",
     "metadata": {},
     "outputs": [],
     "prompt_number": 106
    },
    {
     "cell_type": "code",
     "collapsed": false,
     "input": [
      "with open(\"/prod/user/sam/us/bank/commercial/npi/xgl470/RAR/rar.log\", \"w\") as f:\n",
      "    f.write(log+'\\n'+out_err+'\\n'+out_err2+'\\n'+out_del+'\\n'+out+'\\n')"
     ],
     "language": "python",
     "metadata": {},
     "outputs": [],
     "prompt_number": 107
    },
    {
     "cell_type": "code",
     "collapsed": false,
     "input": [
      "with open (\"/prod/user/sam/us/bank/commercial/npi/xgl470/RAR/details_sql.txt\", \"r\") as myfile:\n",
      "    sql=logon+myfile.read()"
     ],
     "language": "python",
     "metadata": {},
     "outputs": [],
     "prompt_number": 108
    },
    {
     "cell_type": "code",
     "collapsed": false,
     "input": [
      "p_btq = Popen(['bteq','<'], stdout=PIPE, stdin=PIPE, stderr=STDOUT, shell=True)          \n",
      "out_err, err_err = p_btq.communicate(input=sql)"
     ],
     "language": "python",
     "metadata": {},
     "outputs": [],
     "prompt_number": 109
    },
    {
     "cell_type": "code",
     "collapsed": false,
     "input": [
      "with open (\"/prod/user/sam/us/bank/commercial/npi/xgl470/RAR/rar.log\", \"r\") as myfile:\n",
      "    log=myfile.read()"
     ],
     "language": "python",
     "metadata": {},
     "outputs": [],
     "prompt_number": 110
    },
    {
     "cell_type": "code",
     "collapsed": false,
     "input": [
      "with open(\"/prod/user/sam/us/bank/commercial/npi/xgl470/RAR/rar.log\", \"w\") as f:\n",
      "    f.write(log+'\\n'+out_err)"
     ],
     "language": "python",
     "metadata": {},
     "outputs": [],
     "prompt_number": 111
    },
    {
     "cell_type": "heading",
     "level": 4,
     "metadata": {},
     "source": [
      "loan"
     ]
    },
    {
     "cell_type": "code",
     "collapsed": false,
     "input": [
      "with open (\"/prod/user/sam/us/bank/commercial/npi/xgl470/RAR/det_loan_err1.txt\", \"r\") as myfile:\n",
      "    err_file=logon+myfile.read()"
     ],
     "language": "python",
     "metadata": {},
     "outputs": [],
     "prompt_number": 112
    },
    {
     "cell_type": "code",
     "collapsed": false,
     "input": [
      "with open (\"/prod/user/sam/us/bank/commercial/npi/xgl470/RAR/det_loan_err2.txt\", \"r\") as myfile:\n",
      "    err_file2=logon+myfile.read()"
     ],
     "language": "python",
     "metadata": {},
     "outputs": [],
     "prompt_number": 113
    },
    {
     "cell_type": "code",
     "collapsed": false,
     "input": [
      "delete=logon + \"del from ud153.SC_RAR_loan_Detail_stg;\\n \""
     ],
     "language": "python",
     "metadata": {},
     "outputs": [],
     "prompt_number": 114
    },
    {
     "cell_type": "code",
     "collapsed": false,
     "input": [
      "collect_stats=logon + \"collect stats on ud153.SC_RAR_loan_Detail_stg index   ( acct_num ,sor_id ,data_dt );\\n \""
     ],
     "language": "python",
     "metadata": {},
     "outputs": [],
     "prompt_number": 115
    },
    {
     "cell_type": "code",
     "collapsed": false,
     "input": [
      "with open (\"/prod/user/sam/us/bank/commercial/npi/xgl470/RAR/fastload_details_loan.txt\", \"r\") as myfile:\n",
      "    sql=fast_load+logon+myfile.read()"
     ],
     "language": "python",
     "metadata": {},
     "outputs": [],
     "prompt_number": 116
    },
    {
     "cell_type": "code",
     "collapsed": false,
     "input": [
      "p_btq = Popen(['bteq','<'], stdout=PIPE, stdin=PIPE, stderr=STDOUT, shell=True)          \n",
      "out_err, err_err = p_btq.communicate(input=err_file)"
     ],
     "language": "python",
     "metadata": {},
     "outputs": [],
     "prompt_number": 117
    },
    {
     "cell_type": "code",
     "collapsed": false,
     "input": [
      "p_err2 = Popen(['bteq','<'], stdout=PIPE, stdin=PIPE, stderr=STDOUT, shell=True)          \n",
      "out_err2, err_err2 = p_err2.communicate(input=err_file2)"
     ],
     "language": "python",
     "metadata": {},
     "outputs": [],
     "prompt_number": 118
    },
    {
     "cell_type": "code",
     "collapsed": false,
     "input": [
      "p_del = Popen(['bteq','<'], stdout=PIPE, stdin=PIPE, stderr=STDOUT, shell=True)          \n",
      "out_del, err_del = p_del.communicate(input=delete)"
     ],
     "language": "python",
     "metadata": {},
     "outputs": [],
     "prompt_number": 119
    },
    {
     "cell_type": "code",
     "collapsed": false,
     "input": [
      "p = Popen(['fastload','<'], stdout=PIPE, stdin=PIPE, stderr=STDOUT, shell=True)\n",
      "out, err = p.communicate(input=sql)"
     ],
     "language": "python",
     "metadata": {},
     "outputs": [],
     "prompt_number": 120
    },
    {
     "cell_type": "code",
     "collapsed": false,
     "input": [
      "for x in range(0,20):\n",
      "    if 'Total Inserts Applied           =  0' in out:\n",
      "        time.sleep(20)\n",
      "        p = Popen(['fastload','<'], stdout=PIPE, stdin=PIPE, stderr=STDOUT, shell=True)\n",
      "        out, err = p.communicate(input=sql)\n",
      "    else:\n",
      "        break"
     ],
     "language": "python",
     "metadata": {},
     "outputs": [],
     "prompt_number": 121
    },
    {
     "cell_type": "code",
     "collapsed": false,
     "input": [
      "with open (\"/prod/user/sam/us/bank/commercial/npi/xgl470/RAR/rar.log\", \"r\") as myfile:\n",
      "    log=myfile.read()"
     ],
     "language": "python",
     "metadata": {},
     "outputs": [],
     "prompt_number": 122
    },
    {
     "cell_type": "code",
     "collapsed": false,
     "input": [
      "with open(\"/prod/user/sam/us/bank/commercial/npi/xgl470/RAR/rar.log\", \"w\") as f:\n",
      "    f.write(log+'\\n'+out_err+'\\n'+out_err2+'\\n'+out_del+'\\n'+out+'\\n')"
     ],
     "language": "python",
     "metadata": {},
     "outputs": [],
     "prompt_number": 123
    },
    {
     "cell_type": "code",
     "collapsed": false,
     "input": [
      "with open (\"/prod/user/sam/us/bank/commercial/npi/xgl470/RAR/loan_details_sql.txt\", \"r\") as myfile:\n",
      "    sql=logon+myfile.read()"
     ],
     "language": "python",
     "metadata": {},
     "outputs": [],
     "prompt_number": 124
    },
    {
     "cell_type": "code",
     "collapsed": false,
     "input": [
      "p_btq = Popen(['bteq','<'], stdout=PIPE, stdin=PIPE, stderr=STDOUT, shell=True)          \n",
      "out_err, err_err = p_btq.communicate(input=sql)"
     ],
     "language": "python",
     "metadata": {},
     "outputs": [],
     "prompt_number": 125
    },
    {
     "cell_type": "code",
     "collapsed": false,
     "input": [
      "with open (\"/prod/user/sam/us/bank/commercial/npi/xgl470/RAR/rar.log\", \"r\") as myfile:\n",
      "    log=myfile.read()"
     ],
     "language": "python",
     "metadata": {},
     "outputs": [],
     "prompt_number": 126
    },
    {
     "cell_type": "code",
     "collapsed": false,
     "input": [
      "with open(\"/prod/user/sam/us/bank/commercial/npi/xgl470/RAR/rar.log\", \"w\") as f:\n",
      "    f.write(log+'\\n'+out_err)"
     ],
     "language": "python",
     "metadata": {},
     "outputs": [],
     "prompt_number": 127
    },
    {
     "cell_type": "heading",
     "level": 1,
     "metadata": {},
     "source": [
      "Putting the actual RAR stuff into TD"
     ]
    },
    {
     "cell_type": "code",
     "collapsed": false,
     "input": [
      "with open (\"/prod/user/sam/us/bank/commercial/npi/xgl470/RAR/err1.txt\", \"r\") as myfile:\n",
      "    err_file=logon+myfile.read()"
     ],
     "language": "python",
     "metadata": {},
     "outputs": [],
     "prompt_number": 128
    },
    {
     "cell_type": "code",
     "collapsed": false,
     "input": [
      "with open (\"/prod/user/sam/us/bank/commercial/npi/xgl470/RAR/err2.txt\", \"r\") as myfile:\n",
      "    err_file2=logon+myfile.read()"
     ],
     "language": "python",
     "metadata": {},
     "outputs": [],
     "prompt_number": 129
    },
    {
     "cell_type": "code",
     "collapsed": false,
     "input": [
      "delete=logon + \"del from ud153.SC_RAR_Final;\\n \""
     ],
     "language": "python",
     "metadata": {},
     "outputs": [],
     "prompt_number": 130
    },
    {
     "cell_type": "code",
     "collapsed": false,
     "input": [
      "collect_stats=logon + \"collect stats on ud153.SC_RAR_Final index  ( acct_num,sor_id,data_dt );\\n \""
     ],
     "language": "python",
     "metadata": {},
     "outputs": [],
     "prompt_number": 131
    },
    {
     "cell_type": "code",
     "collapsed": false,
     "input": [
      "with open (\"/prod/user/sam/us/bank/commercial/npi/xgl470/RAR/fastload.txt\", \"r\") as myfile:\n",
      "    sql=fast_load+logon+myfile.read()"
     ],
     "language": "python",
     "metadata": {},
     "outputs": [],
     "prompt_number": 132
    },
    {
     "cell_type": "code",
     "collapsed": false,
     "input": [
      "p_btq = Popen(['bteq','<'], stdout=PIPE, stdin=PIPE, stderr=STDOUT, shell=True)          \n",
      "out_err, err_err = p_btq.communicate(input=err_file)"
     ],
     "language": "python",
     "metadata": {},
     "outputs": [],
     "prompt_number": 133
    },
    {
     "cell_type": "code",
     "collapsed": false,
     "input": [
      "p_err2 = Popen(['bteq','<'], stdout=PIPE, stdin=PIPE, stderr=STDOUT, shell=True)          \n",
      "out_err2, err_err2 = p_err2.communicate(input=err_file2)"
     ],
     "language": "python",
     "metadata": {},
     "outputs": [],
     "prompt_number": 134
    },
    {
     "cell_type": "code",
     "collapsed": false,
     "input": [
      "p_del = Popen(['bteq','<'], stdout=PIPE, stdin=PIPE, stderr=STDOUT, shell=True)          \n",
      "out_del, err_del = p_del.communicate(input=delete)"
     ],
     "language": "python",
     "metadata": {},
     "outputs": [],
     "prompt_number": 135
    },
    {
     "cell_type": "code",
     "collapsed": false,
     "input": [
      "p = Popen(['fastload','<'], stdout=PIPE, stdin=PIPE, stderr=STDOUT, shell=True)\n",
      "out, err = p.communicate(input=sql)"
     ],
     "language": "python",
     "metadata": {},
     "outputs": [],
     "prompt_number": 136
    },
    {
     "cell_type": "code",
     "collapsed": false,
     "input": [
      "p_collect = Popen(['bteq','<'], stdout=PIPE, stdin=PIPE, stderr=STDOUT, shell=True)          \n",
      "out_collect, err_collect = p_collect.communicate(input=collect_stats)"
     ],
     "language": "python",
     "metadata": {},
     "outputs": [],
     "prompt_number": 137
    },
    {
     "cell_type": "code",
     "collapsed": false,
     "input": [
      "for x in range(0,20):\n",
      "    if 'Total Inserts Applied           =  0' in out:\n",
      "        time.sleep(20)\n",
      "        p = Popen(['fastload','<'], stdout=PIPE, stdin=PIPE, stderr=STDOUT, shell=True)\n",
      "        out, err = p.communicate(input=sql)\n",
      "    else:\n",
      "        break"
     ],
     "language": "python",
     "metadata": {},
     "outputs": [],
     "prompt_number": 138
    },
    {
     "cell_type": "code",
     "collapsed": false,
     "input": [
      "with open (\"/prod/user/sam/us/bank/commercial/npi/xgl470/RAR/rar.log\", \"r\") as myfile:\n",
      "    log=myfile.read()"
     ],
     "language": "python",
     "metadata": {},
     "outputs": [],
     "prompt_number": 139
    },
    {
     "cell_type": "code",
     "collapsed": false,
     "input": [
      "with open(\"/prod/user/sam/us/bank/commercial/npi/xgl470/RAR/rar.log\", \"w\") as f:\n",
      "    f.write(log+'\\n'+out_err+'\\n'+out_err2+'\\n'+out_del+'\\n'+out+'\\n')"
     ],
     "language": "python",
     "metadata": {},
     "outputs": [],
     "prompt_number": 140
    },
    {
     "cell_type": "code",
     "collapsed": false,
     "input": [
      "with open (\"/prod/user/sam/us/bank/commercial/npi/xgl470/RAR/final_sql.txt\", \"r\") as myfile:\n",
      "    sql=logon+myfile.read()"
     ],
     "language": "python",
     "metadata": {},
     "outputs": [],
     "prompt_number": 141
    },
    {
     "cell_type": "code",
     "collapsed": false,
     "input": [
      "p_btq = Popen(['bteq','<'], stdout=PIPE, stdin=PIPE, stderr=STDOUT, shell=True)          \n",
      "out_err, err_err = p_btq.communicate(input=sql)"
     ],
     "language": "python",
     "metadata": {},
     "outputs": [],
     "prompt_number": 142
    },
    {
     "cell_type": "code",
     "collapsed": false,
     "input": [
      "with open (\"/prod/user/sam/us/bank/commercial/npi/xgl470/RAR/rar.log\", \"r\") as myfile:\n",
      "    log=myfile.read()"
     ],
     "language": "python",
     "metadata": {},
     "outputs": [],
     "prompt_number": 143
    },
    {
     "cell_type": "code",
     "collapsed": false,
     "input": [
      "with open(\"/prod/user/sam/us/bank/commercial/npi/xgl470/RAR/rar.log\", \"w\") as f:\n",
      "    f.write(log+'\\n'+out_err)"
     ],
     "language": "python",
     "metadata": {},
     "outputs": [],
     "prompt_number": 144
    },
    {
     "cell_type": "code",
     "collapsed": false,
     "input": [],
     "language": "python",
     "metadata": {},
     "outputs": [],
     "prompt_number": 144
    },
    {
     "cell_type": "code",
     "collapsed": false,
     "input": [],
     "language": "python",
     "metadata": {},
     "outputs": []
    },
    {
     "cell_type": "code",
     "collapsed": false,
     "input": [],
     "language": "python",
     "metadata": {},
     "outputs": []
    },
    {
     "cell_type": "code",
     "collapsed": false,
     "input": [],
     "language": "python",
     "metadata": {},
     "outputs": []
    },
    {
     "cell_type": "code",
     "collapsed": false,
     "input": [],
     "language": "python",
     "metadata": {},
     "outputs": []
    },
    {
     "cell_type": "code",
     "collapsed": false,
     "input": [],
     "language": "python",
     "metadata": {},
     "outputs": []
    }
   ],
   "metadata": {}
  }
 ]
}